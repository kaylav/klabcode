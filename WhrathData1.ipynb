{
 "cells": [
  {
   "cell_type": "code",
   "execution_count": 1,
   "id": "f3207b5f",
   "metadata": {
    "scrolled": true
   },
   "outputs": [
    {
     "ename": "ModuleNotFoundError",
     "evalue": "No module named 'jagular'",
     "output_type": "error",
     "traceback": [
      "\u001b[0;31m---------------------------------------------------------------------------\u001b[0m",
      "\u001b[0;31mModuleNotFoundError\u001b[0m                       Traceback (most recent call last)",
      "\u001b[0;32m<ipython-input-1-5ff5d0db25cc>\u001b[0m in \u001b[0;36m<module>\u001b[0;34m\u001b[0m\n\u001b[0;32m----> 1\u001b[0;31m \u001b[0;32mimport\u001b[0m \u001b[0mjagular\u001b[0m \u001b[0;32mas\u001b[0m \u001b[0mjag\u001b[0m\u001b[0;34m\u001b[0m\u001b[0;34m\u001b[0m\u001b[0m\n\u001b[0m\u001b[1;32m      2\u001b[0m \u001b[0;32mimport\u001b[0m \u001b[0mos\u001b[0m\u001b[0;34m\u001b[0m\u001b[0;34m\u001b[0m\u001b[0m\n\u001b[1;32m      3\u001b[0m \u001b[0;32mimport\u001b[0m \u001b[0mnumpy\u001b[0m \u001b[0;32mas\u001b[0m \u001b[0mnp\u001b[0m\u001b[0;34m\u001b[0m\u001b[0;34m\u001b[0m\u001b[0m\n\u001b[1;32m      4\u001b[0m \u001b[0;34m\u001b[0m\u001b[0m\n\u001b[1;32m      5\u001b[0m \u001b[0;31m# change as needed\u001b[0m\u001b[0;34m\u001b[0m\u001b[0;34m\u001b[0m\u001b[0;34m\u001b[0m\u001b[0m\n",
      "\u001b[0;31mModuleNotFoundError\u001b[0m: No module named 'jagular'"
     ]
    }
   ],
   "source": [
    "import jagular as jag\n",
    "import os\n",
    "import numpy as np\n",
    "\n",
    "# change as needed\n",
    "files = ['/home/kaylavokt/Desktop/Whrath/test20220214_163334.rec']\n",
    "\n",
    "# generate the jagular file map\n",
    "jfm = jag.io.JagularFileMap(files)\n",
    "\n",
    "ch_per_elec = 4\n",
    "tt = 0\n",
    "\n",
    "##########################################################################\n",
    "# extraction parameters\n",
    "max_gap_size = 10000 # maximum number of samples to interpolate\n",
    "ts_out = os.path.splitext(files[0])[0] + '-timestamps.raw' # output file, customize as needed\n",
    "ch_out_prefix = os.path.splitext(files[0])[0] + '.' # customize as needed\n",
    "\n",
    "start_ch = tt*ch_per_elec\n",
    "end_ch = start_ch + ch_per_elec\n",
    "subset = list(np.arange(start_ch, end_ch)) # which channels to extract. here these are the channels from tetrode #2\n",
    "block_size = 2**21 # controls how much data to read at a time\n",
    "verbose = False # whether to print extra stuff. right now it's not terribly informative\n",
    "###########################################################################\n",
    "\n",
    "jag.utils.extract_channels(\n",
    "    jfm=jfm,\n",
    "    max_gap_size=max_gap_size,\n",
    "    ts_out=ts_out,\n",
    "    ch_out_prefix=ch_out_prefix,\n",
    "#     subset=subset,\n",
    "    block_size=block_size,\n",
    "    verbose=True\n",
    ")"
   ]
  },
  {
   "cell_type": "code",
   "execution_count": 7,
   "id": "f61b8a3d",
   "metadata": {},
   "outputs": [
    {
     "data": {
      "text/plain": [
       "<JagularFileMap[SpikeGadgetsRecFileReader]: 1 file spanning 2:55:648 minutes> at 0x7f11a013d048"
      ]
     },
     "execution_count": 7,
     "metadata": {},
     "output_type": "execute_result"
    }
   ],
   "source": [
    "jfm"
   ]
  },
  {
   "cell_type": "code",
   "execution_count": 6,
   "id": "4f751c32",
   "metadata": {},
   "outputs": [],
   "source": [
    "timestamps = np.fromfile(\n",
    "    '/home/kaylavokt/Desktop/wrath_2_14_22_2/test20220214_163334-timestamps.raw',\n",
    "    dtype=np.uint32)"
   ]
  },
  {
   "cell_type": "code",
   "execution_count": 8,
   "id": "928b605e",
   "metadata": {},
   "outputs": [],
   "source": [
    "desired_tt = 1\n",
    "ch = 0\n",
    "desired_ch = desired_tt*ch_per_elec + ch\n",
    "\n",
    "data = np.fromfile(\n",
    "    f'/home/kaylavokt/Desktop/wrath_2_14_22_2/test20220214_163334.ch.{desired_ch:02}.raw',\n",
    "    dtype=np.int16)\n",
    "assert len(timestamps) == len(data)"
   ]
  },
  {
   "cell_type": "code",
   "execution_count": 22,
   "id": "b537a55a",
   "metadata": {},
   "outputs": [],
   "source": [
    "import matplotlib.pyplot as plt"
   ]
  },
  {
   "cell_type": "code",
   "execution_count": 24,
   "id": "7cde7e13",
   "metadata": {},
   "outputs": [
    {
     "data": {
      "text/plain": [
       "[<matplotlib.lines.Line2D at 0x7f12631816a0>]"
      ]
     },
     "execution_count": 24,
     "metadata": {},
     "output_type": "execute_result"
    },
    {
     "data": {
      "image/png": "[encoded data removed]",
      "text/plain": [
       "<Figure size 432x288 with 1 Axes>"
      ]
     },
     "metadata": {
      "needs_background": "light"
     },
     "output_type": "display_data"
    }
   ],
   "source": [
    "plt.plot(data[100:200])"
   ]
  },
  {
   "cell_type": "code",
   "execution_count": null,
   "id": "45c53f0a",
   "metadata": {},
   "outputs": [],
   "source": []
  }
 ],
 "metadata": {
  "kernelspec": {
   "display_name": "Python 3",
   "language": "python",
   "name": "python3"
  },
  "language_info": {
   "codemirror_mode": {
    "name": "ipython",
    "version": 3
   },
   "file_extension": ".py",
   "mimetype": "text/x-python",
   "name": "python",
   "nbconvert_exporter": "python",
   "pygments_lexer": "ipython3",
   "version": "3.6.13"
  }
 },
 "nbformat": 4,
 "nbformat_minor": 5
}
