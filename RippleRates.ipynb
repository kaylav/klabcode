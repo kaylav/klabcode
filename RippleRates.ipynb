{
 "cells": [
  {
   "cell_type": "markdown",
   "metadata": {},
   "source": [
    "# Ripple rates\n",
    "Here we want to do a few different things...all of these are during the control sessions. The goal is to motivate recording from downstream areas\n",
    "\n",
    "- Define ripples with 1SD above the mean threshold as the start and end bounds\n",
    "- Ripple rates preFamSleep vs postFamSleep for all control sessions\n",
    "- Ripple counts vs discrimination index scatter plot\n",
    "- Long duration (> 100 ms) ripples vs discrimination index scatter plot"
   ]
  },
  {
   "cell_type": "code",
   "execution_count": 1,
   "metadata": {},
   "outputs": [
    {
     "name": "stderr",
     "output_type": "stream",
     "text": [
      "/home/shayok/Documents/Code/nelpy/nelpy/plotting/decoding.py:9: MatplotlibDeprecationWarning: \n",
      "The mpl_toolkits.axes_grid module was deprecated in Matplotlib 2.1 and will be removed two minor releases later. Use mpl_toolkits.axes_grid1 and mpl_toolkits.axisartist, which provide the same functionality instead.\n"
     ]
    }
   ],
   "source": [
    "import nelpy as nel\n",
    "import nelpy.plotting as npl\n",
    "import jagular as jag\n",
    "import numpy as np\n",
    "import matplotlib.pyplot as plt\n",
    "from tqdm.notebook import tqdm as tqdm"
   ]
  },
  {
   "cell_type": "markdown",
   "metadata": {},
   "source": [
    "# Load up data on lappy"
   ]
  },
  {
   "cell_type": "code",
   "execution_count": 2,
   "metadata": {},
   "outputs": [],
   "source": [
    "def loadUpData(filepath, filename, channels, verbose, veryVerbose=False):\n",
    "    jfm = jag.io.JagularFileMap(filepath+filename)\n",
    "    if(verbose):\n",
    "        print(jfm)\n",
    "        \n",
    "    jag.utils.extract_channels(\n",
    "    jfm,\n",
    "    ts_out=filepath+filename[0:-4]+'-timestamps.raw',\n",
    "    ch_out_prefix=filepath+filename[0:-4],\n",
    "    subset=channels,\n",
    "    verbose=veryVerbose)\n",
    "    \n",
    "    ts = np.fromfile(filepath+filename[0:-4]+'-timestamps.raw', dtype=np.uint32)\n",
    "    if(verbose):\n",
    "        print(\"Files genreated:\")\n",
    "        print(filepath+filename[0:-4]+'-timestamps.raw')\n",
    "    chdata = []\n",
    "    for i in range(len(channels)):\n",
    "        if(channels[i]<10):\n",
    "            chdata.append(np.fromfile(filepath+filename[0:-4]+\"ch.0\"+str(channels[i])+\".raw\",dtype=np.int16)*0.195)\n",
    "            if(verbose):\n",
    "                print(filepath+filename[0:-4]+\"ch.0\"+str(channels[i])+\".raw\")\n",
    "        else:\n",
    "            chdata.append(np.fromfile(filepath+filename[0:-4]+\"ch.\"+str(channels[i])+\".raw\",dtype=np.int16)*0.195)\n",
    "            if(verbose):\n",
    "                print(filepath+filename[0:-4]+\"ch.\"+str(channels[i])+\".raw\")\n",
    "    \n",
    "    chdata = np.asarray(chdata)\n",
    "    return nel.AnalogSignalArray(\n",
    "    chdata,\n",
    "    abscissa_vals=(ts-ts[0])/30000,\n",
    "    )"
   ]
  },
  {
   "cell_type": "code",
   "execution_count": 3,
   "metadata": {},
   "outputs": [
    {
     "name": "stdout",
     "output_type": "stream",
     "text": [
      "<JagularFileMap[SpikeGadgetsRecFileReader]: 1 file spanning 20:42:832 minutes> at 0x7efc57409cf8\n",
      "Files genreated:\n",
      "/home/shayok/Documents/Data/OptogeneticRippleExtension/postFamSleep-timestamps.raw\n",
      "/home/shayok/Documents/Data/OptogeneticRippleExtension/postFamSleepch.26.raw\n"
     ]
    },
    {
     "name": "stderr",
     "output_type": "stream",
     "text": [
      "WARNING:root:fs was not specified, so we try to estimate it from the data...\n",
      "WARNING:root:fs was estimated to be 29999.999999004103 Hz\n",
      "WARNING:root:creating support from abscissa_vals and sampling rate, fs!\n",
      "WARNING:root:'fs' has been deprecated; use 'step' instead\n",
      "WARNING:root:some steps in the data are smaller than the requested step size.\n"
     ]
    },
    {
     "name": "stdout",
     "output_type": "stream",
     "text": [
      "<AnalogSignalArray at 0x7efc574c9710: 1 signals> for a total of 20:42:832 minutes\n"
     ]
    }
   ],
   "source": [
    "filepath = '/home/shayok/Documents/Data/OptogeneticRippleExtension/'\n",
    "filename = \"postFamSleep.rec\"\n",
    "channels = [26]\n",
    "\n",
    "asa = loadUpData(filepath, filename, channels, True)\n",
    "print(asa)\n",
    "resultsContainer = nel.auxiliary.ResultsContainer(asa=asa)\n",
    "resultsContainer.save_pkl(\"/home/shayok/Documents/Data/OptogeneticRippleExtension/postFamSleepCh26.nel\")"
   ]
  },
  {
   "cell_type": "code",
   "execution_count": 4,
   "metadata": {},
   "outputs": [
    {
     "name": "stdout",
     "output_type": "stream",
     "text": [
      "<JagularFileMap[SpikeGadgetsRecFileReader]: 1 file spanning 20:42:832 minutes> at 0x7efc57409908\n",
      "Files genreated:\n",
      "/home/shayok/Documents/Data/OptogeneticRippleExtension/postFamSleep-timestamps.raw\n",
      "/home/shayok/Documents/Data/OptogeneticRippleExtension/postFamSleepch.28.raw\n"
     ]
    },
    {
     "name": "stderr",
     "output_type": "stream",
     "text": [
      "WARNING:root:fs was not specified, so we try to estimate it from the data...\n",
      "WARNING:root:fs was estimated to be 29999.999999004103 Hz\n",
      "WARNING:root:creating support from abscissa_vals and sampling rate, fs!\n",
      "WARNING:root:'fs' has been deprecated; use 'step' instead\n",
      "WARNING:root:some steps in the data are smaller than the requested step size.\n"
     ]
    },
    {
     "name": "stdout",
     "output_type": "stream",
     "text": [
      "<AnalogSignalArray at 0x7efc573ba5c0: 1 signals> for a total of 20:42:832 minutes\n"
     ]
    }
   ],
   "source": [
    "filepath = '/home/shayok/Documents/Data/OptogeneticRippleExtension/'\n",
    "filename = \"postFamSleep.rec\"\n",
    "channels = [28]\n",
    "\n",
    "asa = loadUpData(filepath, filename, channels, True)\n",
    "print(asa)\n",
    "resultsContainer = nel.auxiliary.ResultsContainer(asa=asa)\n",
    "resultsContainer.save_pkl(\"/home/shayok/Documents/Data/OptogeneticRippleExtension/postFamSleepCh28.nel\")"
   ]
  },
  {
   "cell_type": "code",
   "execution_count": 5,
   "metadata": {},
   "outputs": [
    {
     "name": "stdout",
     "output_type": "stream",
     "text": [
      "<JagularFileMap[SpikeGadgetsRecFileReader]: 1 file spanning 20:42:832 minutes> at 0x7efc57409ef0\n",
      "Files genreated:\n",
      "/home/shayok/Documents/Data/OptogeneticRippleExtension/postFamSleep-timestamps.raw\n",
      "/home/shayok/Documents/Data/OptogeneticRippleExtension/postFamSleepch.16.raw\n"
     ]
    },
    {
     "name": "stderr",
     "output_type": "stream",
     "text": [
      "WARNING:root:fs was not specified, so we try to estimate it from the data...\n",
      "WARNING:root:fs was estimated to be 29999.999999004103 Hz\n",
      "WARNING:root:creating support from abscissa_vals and sampling rate, fs!\n",
      "WARNING:root:'fs' has been deprecated; use 'step' instead\n",
      "WARNING:root:some steps in the data are smaller than the requested step size.\n"
     ]
    },
    {
     "name": "stdout",
     "output_type": "stream",
     "text": [
      "<AnalogSignalArray at 0x7efc574c9710: 1 signals> for a total of 20:42:832 minutes\n"
     ]
    }
   ],
   "source": [
    "filepath = '/home/shayok/Documents/Data/OptogeneticRippleExtension/'\n",
    "filename = \"postFamSleep.rec\"\n",
    "channels = [16]\n",
    "\n",
    "asa = loadUpData(filepath, filename, channels, True)\n",
    "print(asa)\n",
    "resultsContainer = nel.auxiliary.ResultsContainer(asa=asa)\n",
    "resultsContainer.save_pkl(\"/home/shayok/Documents/Data/OptogeneticRippleExtension/postFamSleepCh16.nel\")"
   ]
  },
  {
   "cell_type": "code",
   "execution_count": 53,
   "metadata": {},
   "outputs": [
    {
     "name": "stdout",
     "output_type": "stream",
     "text": [
      "<JagularFileMap[SpikeGadgetsRecFileReader]: 1 file spanning 20:50:090 minutes> at 0x7f7690d02c88\n",
      "Files genreated:\n",
      "/home/shayok/Documents/Data/myRodents/Weller/Day3/preFamSleep-timestamps.raw\n",
      "/home/shayok/Documents/Data/myRodents/Weller/Day3/preFamSleepch.16.raw\n"
     ]
    },
    {
     "name": "stderr",
     "output_type": "stream",
     "text": [
      "WARNING:root:fs was not specified, so we try to estimate it from the data...\n",
      "WARNING:root:fs was estimated to be 29999.999999004103 Hz\n",
      "WARNING:root:creating support from abscissa_vals and sampling rate, fs!\n",
      "WARNING:root:'fs' has been deprecated; use 'step' instead\n",
      "WARNING:root:some steps in the data are smaller than the requested step size.\n"
     ]
    },
    {
     "name": "stdout",
     "output_type": "stream",
     "text": [
      "<AnalogSignalArray at 0x7f7690c8fc18: 1 signals (14,582 segments)> for a total of 20:28:291 minutes\n"
     ]
    }
   ],
   "source": [
    "filepath = '/home/shayok/Documents/Data/myRodents/Weller/Day3/'\n",
    "filename = \"preFamSleep.rec\"\n",
    "channels = [16]\n",
    "\n",
    "asa = loadUpData(filepath, filename, channels, True)\n",
    "print(asa)\n",
    "resultsContainer = nel.auxiliary.ResultsContainer(asa=asa)\n",
    "resultsContainer.save_pkl(\"/home/shayok/Documents/Data/myRodents/Weller/Day3/preFamSleepCh16.nel\")"
   ]
  },
  {
   "cell_type": "code",
   "execution_count": 54,
   "metadata": {},
   "outputs": [
    {
     "name": "stdout",
     "output_type": "stream",
     "text": [
      "<JagularFileMap[SpikeGadgetsRecFileReader]: 1 file spanning 20:50:090 minutes> at 0x7f7690c8f080\n",
      "Files genreated:\n",
      "/home/shayok/Documents/Data/myRodents/Weller/Day3/preFamSleep-timestamps.raw\n",
      "/home/shayok/Documents/Data/myRodents/Weller/Day3/preFamSleepch.24.raw\n"
     ]
    },
    {
     "name": "stderr",
     "output_type": "stream",
     "text": [
      "WARNING:root:fs was not specified, so we try to estimate it from the data...\n",
      "WARNING:root:fs was estimated to be 29999.999999004103 Hz\n",
      "WARNING:root:creating support from abscissa_vals and sampling rate, fs!\n",
      "WARNING:root:'fs' has been deprecated; use 'step' instead\n",
      "WARNING:root:some steps in the data are smaller than the requested step size.\n"
     ]
    },
    {
     "name": "stdout",
     "output_type": "stream",
     "text": [
      "<AnalogSignalArray at 0x7f7690c98080: 1 signals (14,582 segments)> for a total of 20:28:291 minutes\n"
     ]
    }
   ],
   "source": [
    "filepath = '/home/shayok/Documents/Data/myRodents/Weller/Day3/'\n",
    "filename = \"preFamSleep.rec\"\n",
    "channels = [24]\n",
    "\n",
    "asa = loadUpData(filepath, filename, channels, True)\n",
    "print(asa)\n",
    "resultsContainer = nel.auxiliary.ResultsContainer(asa=asa)\n",
    "resultsContainer.save_pkl(\"/home/shayok/Documents/Data/myRodents/Weller/Day3/preFamSleepCh24.nel\")"
   ]
  },
  {
   "cell_type": "code",
   "execution_count": 55,
   "metadata": {},
   "outputs": [
    {
     "name": "stdout",
     "output_type": "stream",
     "text": [
      "<JagularFileMap[SpikeGadgetsRecFileReader]: 1 file spanning 20:26:797 minutes> at 0x7f7690c986a0\n",
      "Files genreated:\n",
      "/home/shayok/Documents/Data/myRodents/Weller/Day4/preFamSleep-timestamps.raw\n",
      "/home/shayok/Documents/Data/myRodents/Weller/Day4/preFamSleepch.16.raw\n"
     ]
    },
    {
     "name": "stderr",
     "output_type": "stream",
     "text": [
      "WARNING:root:fs was not specified, so we try to estimate it from the data...\n",
      "WARNING:root:fs was estimated to be 29999.999999004103 Hz\n",
      "WARNING:root:creating support from abscissa_vals and sampling rate, fs!\n",
      "WARNING:root:'fs' has been deprecated; use 'step' instead\n",
      "WARNING:root:some steps in the data are smaller than the requested step size.\n"
     ]
    },
    {
     "name": "stdout",
     "output_type": "stream",
     "text": [
      "<AnalogSignalArray at 0x7f7690d09b00: 1 signals (18,620 segments)> for a total of 20:02:255 minutes\n"
     ]
    }
   ],
   "source": [
    "filepath = '/home/shayok/Documents/Data/myRodents/Weller/Day4/'\n",
    "filename = \"preFamSleep.rec\"\n",
    "channels = [16]\n",
    "\n",
    "asa = loadUpData(filepath, filename, channels, True)\n",
    "print(asa)\n",
    "resultsContainer = nel.auxiliary.ResultsContainer(asa=asa)\n",
    "resultsContainer.save_pkl(\"/home/shayok/Documents/Data/myRodents/Weller/Day4/preFamSleepCh16.nel\")"
   ]
  },
  {
   "cell_type": "code",
   "execution_count": 56,
   "metadata": {},
   "outputs": [
    {
     "name": "stdout",
     "output_type": "stream",
     "text": [
      "<JagularFileMap[SpikeGadgetsRecFileReader]: 1 file spanning 20:26:797 minutes> at 0x7f7690d09198\n",
      "Files genreated:\n",
      "/home/shayok/Documents/Data/myRodents/Weller/Day4/preFamSleep-timestamps.raw\n",
      "/home/shayok/Documents/Data/myRodents/Weller/Day4/preFamSleepch.24.raw\n"
     ]
    },
    {
     "name": "stderr",
     "output_type": "stream",
     "text": [
      "WARNING:root:fs was not specified, so we try to estimate it from the data...\n",
      "WARNING:root:fs was estimated to be 29999.999999004103 Hz\n",
      "WARNING:root:creating support from abscissa_vals and sampling rate, fs!\n",
      "WARNING:root:'fs' has been deprecated; use 'step' instead\n",
      "WARNING:root:some steps in the data are smaller than the requested step size.\n"
     ]
    },
    {
     "name": "stdout",
     "output_type": "stream",
     "text": [
      "<AnalogSignalArray at 0x7f7690d095c0: 1 signals (18,620 segments)> for a total of 20:02:255 minutes\n"
     ]
    }
   ],
   "source": [
    "filepath = '/home/shayok/Documents/Data/myRodents/Weller/Day4/'\n",
    "filename = \"preFamSleep.rec\"\n",
    "channels = [24]\n",
    "\n",
    "asa = loadUpData(filepath, filename, channels, True)\n",
    "print(asa)\n",
    "resultsContainer = nel.auxiliary.ResultsContainer(asa=asa)\n",
    "resultsContainer.save_pkl(\"/home/shayok/Documents/Data/myRodents/Weller/Day4/preFamSleepCh24.nel\")"
   ]
  },
  {
   "cell_type": "code",
   "execution_count": 61,
   "metadata": {},
   "outputs": [
    {
     "name": "stdout",
     "output_type": "stream",
     "text": [
      "<JagularFileMap[SpikeGadgetsRecFileReader]: 1 file spanning 20:40:352 minutes> at 0x7f7690d09f28\n",
      "Files genreated:\n",
      "/home/shayok/Documents/Data/myRodents/Webby/Experiments/Day0/preSleep-timestamps.raw\n",
      "/home/shayok/Documents/Data/myRodents/Webby/Experiments/Day0/preSleepch.29.raw\n"
     ]
    },
    {
     "name": "stderr",
     "output_type": "stream",
     "text": [
      "WARNING:root:fs was not specified, so we try to estimate it from the data...\n",
      "WARNING:root:fs was estimated to be 29999.999999004103 Hz\n",
      "WARNING:root:creating support from abscissa_vals and sampling rate, fs!\n",
      "WARNING:root:'fs' has been deprecated; use 'step' instead\n",
      "WARNING:root:some steps in the data are smaller than the requested step size.\n"
     ]
    },
    {
     "name": "stdout",
     "output_type": "stream",
     "text": [
      "<AnalogSignalArray at 0x7f7690ced400: 1 signals> for a total of 20:40:352 minutes\n"
     ]
    }
   ],
   "source": [
    "filepath = '/home/shayok/Documents/Data/myRodents/Webby/Experiments/Day0/'\n",
    "filename = \"preSleep.rec\"\n",
    "channels = [29]\n",
    "\n",
    "asa = loadUpData(filepath, filename, channels, True)\n",
    "print(asa)\n",
    "resultsContainer = nel.auxiliary.ResultsContainer(asa=asa)\n",
    "resultsContainer.save_pkl(\"/home/shayok/Documents/Data/myRodents/Webby/Experiments/Day0/preSleepCh29.nel\")"
   ]
  },
  {
   "cell_type": "code",
   "execution_count": 58,
   "metadata": {},
   "outputs": [
    {
     "name": "stdout",
     "output_type": "stream",
     "text": [
      "<JagularFileMap[SpikeGadgetsRecFileReader]: 1 file spanning 47:44:536 minutes> at 0x7f7690d02390\n",
      "Files genreated:\n",
      "/home/shayok/Documents/Data/myRodents/Woodrow/Experiments/FONL/Disruption/3-29-19/preFamSleep1-timestamps.raw\n",
      "/home/shayok/Documents/Data/myRodents/Woodrow/Experiments/FONL/Disruption/3-29-19/preFamSleep1ch.04.raw\n"
     ]
    },
    {
     "name": "stderr",
     "output_type": "stream",
     "text": [
      "WARNING:root:fs was not specified, so we try to estimate it from the data...\n",
      "WARNING:root:fs was estimated to be 30000.00007574272 Hz\n",
      "WARNING:root:creating support from abscissa_vals and sampling rate, fs!\n",
      "WARNING:root:'fs' has been deprecated; use 'step' instead\n"
     ]
    },
    {
     "name": "stdout",
     "output_type": "stream",
     "text": [
      "<AnalogSignalArray at 0x7f7690c98630: 1 signals> for a total of 47:44:536 minutes\n"
     ]
    }
   ],
   "source": [
    "filepath = '/home/shayok/Documents/Data/myRodents/Woodrow/Experiments/FONL/Disruption/3-29-19/'\n",
    "filename = \"preFamSleep1.rec\"\n",
    "channels = [4]\n",
    "\n",
    "asa = loadUpData(filepath, filename, channels, True)\n",
    "print(asa)\n",
    "resultsContainer = nel.auxiliary.ResultsContainer(asa=asa)\n",
    "resultsContainer.save_pkl(\"/home/shayok/Documents/Data/myRodents/Woodrow/Experiments/FONL/Disruption/3-29-19/preSleepCh4.nel\")"
   ]
  },
  {
   "cell_type": "code",
   "execution_count": 59,
   "metadata": {},
   "outputs": [
    {
     "name": "stdout",
     "output_type": "stream",
     "text": [
      "<JagularFileMap[SpikeGadgetsRecFileReader]: 1 file spanning 21:41:720 minutes> at 0x7f7690c8f278\n",
      "Files genreated:\n",
      "/home/shayok/Documents/Data/myRodents/Woodrow/Experiments/FONL/Disruption/3-30-19/preFamSleep1-timestamps.raw\n",
      "/home/shayok/Documents/Data/myRodents/Woodrow/Experiments/FONL/Disruption/3-30-19/preFamSleep1ch.04.raw\n"
     ]
    },
    {
     "name": "stderr",
     "output_type": "stream",
     "text": [
      "WARNING:root:fs was not specified, so we try to estimate it from the data...\n",
      "WARNING:root:fs was estimated to be 29999.999999004103 Hz\n",
      "WARNING:root:creating support from abscissa_vals and sampling rate, fs!\n",
      "WARNING:root:'fs' has been deprecated; use 'step' instead\n",
      "WARNING:root:some steps in the data are smaller than the requested step size.\n"
     ]
    },
    {
     "name": "stdout",
     "output_type": "stream",
     "text": [
      "<AnalogSignalArray at 0x7f7690d02710: 1 signals> for a total of 21:41:720 minutes\n"
     ]
    }
   ],
   "source": [
    "filepath = '/home/shayok/Documents/Data/myRodents/Woodrow/Experiments/FONL/Disruption/3-30-19/'\n",
    "filename = \"preFamSleep1.rec\"\n",
    "channels = [4]\n",
    "\n",
    "asa = loadUpData(filepath, filename, channels, True)\n",
    "print(asa)\n",
    "resultsContainer = nel.auxiliary.ResultsContainer(asa=asa)\n",
    "resultsContainer.save_pkl(\"/home/shayok/Documents/Data/myRodents/Woodrow/Experiments/FONL/Disruption/3-30-19/preSleepCh4.nel\")"
   ]
  },
  {
   "cell_type": "code",
   "execution_count": null,
   "metadata": {},
   "outputs": [],
   "source": [
    "# load up preFamSleep File\n",
    "filename = \"/home/shayok/Documents/Data/myRodents/Weller/Day0/\"\n",
    "jar = nel.load_pkl(filename,)\n",
    "asa = jar.asa\n",
    "asa.support = asa.support.merge(gap=0.15)\n",
    "asa,(asa.time[-1]-asa.time[0])/60,asa.fs"
   ]
  },
  {
   "cell_type": "code",
   "execution_count": 45,
   "metadata": {},
   "outputs": [],
   "source": [
    "asa.support = asa.support.merge(gap=15)"
   ]
  },
  {
   "cell_type": "code",
   "execution_count": 46,
   "metadata": {},
   "outputs": [
    {
     "data": {
      "text/plain": [
       "<AnalogSignalArray at 0x7f7690cf68d0: 1 signals> for a total of 20:28:064 minutes"
      ]
     },
     "execution_count": 46,
     "metadata": {},
     "output_type": "execute_result"
    }
   ],
   "source": [
    "asa"
   ]
  },
  {
   "cell_type": "code",
   "execution_count": 47,
   "metadata": {},
   "outputs": [
    {
     "data": {
      "text/plain": [
       "20.467733333333335"
      ]
     },
     "execution_count": 47,
     "metadata": {},
     "output_type": "execute_result"
    }
   ],
   "source": [
    "(asa.time[-1]-asa.time[0])/60"
   ]
  },
  {
   "cell_type": "markdown",
   "metadata": {},
   "source": [
    "# Detect ripples"
   ]
  },
  {
   "cell_type": "code",
   "execution_count": 48,
   "metadata": {},
   "outputs": [],
   "source": [
    "asa = nel.filtering.sosfiltfilt(asa,fl=0.1,fh=400) # lfp/anti-aliasing filter\n",
    "asa = asa.subsample(fs=3000)"
   ]
  },
  {
   "cell_type": "code",
   "execution_count": 49,
   "metadata": {},
   "outputs": [
    {
     "name": "stderr",
     "output_type": "stream",
     "text": [
      "/home/shayok/Documents/Code/nelpy/nelpy/utils.py:1225: FutureWarning: Using a non-tuple sequence for multidimensional indexing is deprecated; use `arr[tuple(seq)]` instead of `arr[seq]`. In the future this will be interpreted as an array index, `arr[np.array(seq)]`, which will result either in an error or a different result.\n"
     ]
    }
   ],
   "source": [
    "# filter raw data in ripple band\n",
    "cows = nel.filtering.sosfiltfilt(asa,fl=150,fh=250,)\n",
    "# compute envelope of signal\n",
    "cowy = nel.utils.signal_envelope_1d(cows)\n",
    "#ripple detection across channels! Defn: 3s.d. above mean for 15ms down to the mean for start and end\n",
    "ripple_epochs = []\n",
    "for i,cow in enumerate(cowy.signals):\n",
    "    #find ripples!\n",
    "    rippleboundValue = np.mean(cow.data.squeeze())+np.std(cow.data.squeeze())\n",
    "    ripple_bounds, ripple_maxes, ripple_events = \\\n",
    "                                nel.utils.get_events_boundaries(cow.data, PrimaryThreshold=np.mean(cow.data.squeeze())+(3*np.std(cow.data.squeeze())), \\\n",
    "                                SecondaryThreshold=rippleboundValue,minThresholdLength = 0.015, ds=1/cow.fs)\n",
    "    #ripple bounds stored as epoch arrays\n",
    "    ripple_epochs.append(nel.EpochArray((ripple_bounds/cow.fs)+cow.time[0]))\n",
    "ripple_epochs = ripple_epochs[0]"
   ]
  },
  {
   "cell_type": "code",
   "execution_count": 50,
   "metadata": {},
   "outputs": [
    {
     "data": {
      "text/plain": [
       "(20.467733333333335,\n",
       " <EpochArray at 0x7f761de8abe0: 258 epochs> of length 11.8887 seconds,\n",
       " 2)"
      ]
     },
     "execution_count": 50,
     "metadata": {},
     "output_type": "execute_result"
    }
   ],
   "source": [
    "(asa.time[-1]-asa.time[0])/60,ripple_epochs, np.where(ripple_epochs.lengths>0.1)[0].size"
   ]
  },
  {
   "cell_type": "code",
   "execution_count": 51,
   "metadata": {},
   "outputs": [
    {
     "data": {
      "text/plain": [
       "array([129, 211])"
      ]
     },
     "execution_count": 51,
     "metadata": {},
     "output_type": "execute_result"
    }
   ],
   "source": [
    "np.where(ripple_epochs.lengths>0.1)[0]"
   ]
  },
  {
   "cell_type": "code",
   "execution_count": 43,
   "metadata": {},
   "outputs": [
    {
     "name": "stderr",
     "output_type": "stream",
     "text": [
      "WARNING:root:ignoring signal outside of support\n",
      "WARNING:root:ignoring signal outside of support\n"
     ]
    },
    {
     "data": {
      "image/png": "[encoded data removed]",
      "text/plain": [
       "<Figure size 432x288 with 1 Axes>"
      ]
     },
     "metadata": {
      "needs_background": "light"
     },
     "output_type": "display_data"
    }
   ],
   "source": [
    "rippleNum = 149\n",
    "npl.plot(asa[ripple_epochs[rippleNum].expand(0.5)],color='black')\n",
    "npl.plot(asa[ripple_epochs[rippleNum]],color='red')\n",
    "# npl.plot(asa[ripple_epochs[rippleNum+1]],color='red')"
   ]
  },
  {
   "cell_type": "code",
   "execution_count": 47,
   "metadata": {},
   "outputs": [],
   "source": [
    "preDisruptSleepRippleCounts = np.flip([119+351,294,517,280,258,320,317])\n",
    "preDisruptSleepRippleCounts100ms = np.flip([9+20,2,16,10,2,2,14])\n",
    "durations = np.flip([13.808799444444444+6.652666111111111,19.999998888888893,21.6111,20.67253277777778,20.467733333333335,20.834848333333333,20.446616666666667])\n",
    "discriminationIdx = np.flip([0.003757,0.07417,-0.598859,0.063415,-0.160093,0.133641,-0.877087])\n",
    "session = np.flip([\"Woodrow0\",\"Woodrow1\",\"Woodrow2\",\"Webby0\",\"Weller0\",\"Weller3\",\"Weller4\"])"
   ]
  },
  {
   "cell_type": "code",
   "execution_count": 56,
   "metadata": {},
   "outputs": [
    {
     "data": {
      "text/plain": [
       "(array([14,  2,  1, 10, 16,  2, 29]),\n",
       " array(['Weller4', 'Weller3', 'Weller0', 'Webby0', 'Woodrow2', 'Woodrow1',\n",
       "        'Woodrow0'], dtype='<U8'))"
      ]
     },
     "execution_count": 56,
     "metadata": {},
     "output_type": "execute_result"
    }
   ],
   "source": [
    "preDisruptSleepRippleCounts100ms,session"
   ]
  },
  {
   "cell_type": "code",
   "execution_count": 49,
   "metadata": {},
   "outputs": [],
   "source": [
    "np.savez(\"preDisruptionSleepRippleData.npz\",preDisruptSleepRippleCounts=preDisruptSleepRippleCounts,\\\n",
    "         preDisruptSleepRippleCounts100ms=preDisruptSleepRippleCounts100ms,\\\n",
    "         durations=durations,\\\n",
    "         discriminationIdx=discriminationIdx,\\\n",
    "         session=session)"
   ]
  },
  {
   "cell_type": "markdown",
   "metadata": {},
   "source": [
    "# other stuff probably not important anymore"
   ]
  },
  {
   "cell_type": "code",
   "execution_count": 66,
   "metadata": {},
   "outputs": [
    {
     "name": "stdout",
     "output_type": "stream",
     "text": [
      "<JagularFileMap[SpikeGadgetsRecFileReader]: 1 file spanning 6:03:912 minutes> at 0x7f7690d02f28\n",
      "Files genreated:\n",
      "/home/shayok/Documents/Data/RippleExtension/RAAV4/rippleExtension-timestamps.raw\n",
      "/home/shayok/Documents/Data/RippleExtension/RAAV4/rippleExtensionch.26.raw\n"
     ]
    },
    {
     "name": "stderr",
     "output_type": "stream",
     "text": [
      "WARNING:root:fs was not specified, so we try to estimate it from the data...\n",
      "WARNING:root:fs was estimated to be 29999.999999004103 Hz\n",
      "WARNING:root:creating support from abscissa_vals and sampling rate, fs!\n",
      "WARNING:root:'fs' has been deprecated; use 'step' instead\n",
      "WARNING:root:some steps in the data are smaller than the requested step size.\n"
     ]
    },
    {
     "name": "stdout",
     "output_type": "stream",
     "text": [
      "<AnalogSignalArray at 0x7f76914590f0: 1 signals> for a total of 6:03:912 minutes\n"
     ]
    }
   ],
   "source": [
    "filepath = '/home/shayok/Documents/Data/RippleExtension/RAAV4/'\n",
    "filename = 'rippleExtension.rec'\n",
    "channels = [26]\n",
    "\n",
    "asa = loadUpData(filepath, filename, channels, True)\n",
    "print(asa)\n",
    "resultsContainer = nel.auxiliary.ResultsContainer(asa=asa)\n",
    "resultsContainer.save_pkl(\"/home/shayok/Documents/Data/RippleExtension/RAAV4/rippleExtensionCh26_pulse.nel\")"
   ]
  },
  {
   "cell_type": "code",
   "execution_count": 67,
   "metadata": {},
   "outputs": [
    {
     "name": "stdout",
     "output_type": "stream",
     "text": [
      "<JagularFileMap[SpikeGadgetsRecFileReader]: 1 file spanning 5:01:216 minutes> at 0x7f7690d02400\n",
      "Files genreated:\n",
      "/home/shayok/Documents/Data/RippleExtension/RAAV4/trigger5Sec-timestamps.raw\n",
      "/home/shayok/Documents/Data/RippleExtension/RAAV4/trigger5Secch.26.raw\n"
     ]
    },
    {
     "name": "stderr",
     "output_type": "stream",
     "text": [
      "WARNING:root:fs was not specified, so we try to estimate it from the data...\n",
      "WARNING:root:fs was estimated to be 29999.999999004103 Hz\n",
      "WARNING:root:creating support from abscissa_vals and sampling rate, fs!\n",
      "WARNING:root:'fs' has been deprecated; use 'step' instead\n",
      "WARNING:root:some steps in the data are smaller than the requested step size.\n"
     ]
    },
    {
     "name": "stdout",
     "output_type": "stream",
     "text": [
      "<AnalogSignalArray at 0x7f7690d451d0: 1 signals> for a total of 5:01:216 minutes\n"
     ]
    }
   ],
   "source": [
    "filepath = '/home/shayok/Documents/Data/RippleExtension/RAAV4/'\n",
    "filename = 'trigger5Sec.rec'\n",
    "channels = [26]\n",
    "\n",
    "asa = loadUpData(filepath, filename, channels, True)\n",
    "print(asa)\n",
    "resultsContainer = nel.auxiliary.ResultsContainer(asa=asa)\n",
    "resultsContainer.save_pkl(\"/home/shayok/Documents/Data/RippleExtension/RAAV4/trigger5SecCh26_pulse.nel\")"
   ]
  },
  {
   "cell_type": "code",
   "execution_count": 7,
   "metadata": {},
   "outputs": [
    {
     "data": {
      "text/plain": [
       "<AnalogSignalArray at 0x7f79f9f31908: 1 signals (16,239 segments)> for a total of 20:00:261 minutes"
      ]
     },
     "execution_count": 7,
     "metadata": {},
     "output_type": "execute_result"
    }
   ],
   "source": [
    "asa"
   ]
  },
  {
   "cell_type": "code",
   "execution_count": 141,
   "metadata": {},
   "outputs": [],
   "source": [
    "asa.support = asa.support.merge(gap=10)"
   ]
  },
  {
   "cell_type": "code",
   "execution_count": 142,
   "metadata": {},
   "outputs": [
    {
     "data": {
      "text/plain": [
       "<AnalogSignalArray at 0x7f5d7f956a90: 1 signals> for a total of 19:02:567 minutes"
      ]
     },
     "execution_count": 142,
     "metadata": {},
     "output_type": "execute_result"
    }
   ],
   "source": [
    "asa"
   ]
  },
  {
   "cell_type": "code",
   "execution_count": 143,
   "metadata": {},
   "outputs": [],
   "source": [
    "asa._ordinate.base_unit='$\\mu$V'"
   ]
  },
  {
   "cell_type": "code",
   "execution_count": 144,
   "metadata": {},
   "outputs": [
    {
     "data": {
      "image/png": "[encoded data removed]",
      "text/plain": [
       "<Figure size 432x288 with 1 Axes>"
      ]
     },
     "metadata": {
      "needs_background": "light"
     },
     "output_type": "display_data"
    }
   ],
   "source": [
    "npl.plot(asa)"
   ]
  },
  {
   "cell_type": "markdown",
   "metadata": {},
   "source": [
    "# PreFamSleep save data for desky"
   ]
  },
  {
   "cell_type": "code",
   "execution_count": 134,
   "metadata": {},
   "outputs": [],
   "source": [
    "asa = nel.filtering.sosfiltfilt(asa,fl=0.1,fh=400) # lfp/anti-aliasing filter"
   ]
  },
  {
   "cell_type": "code",
   "execution_count": 10,
   "metadata": {},
   "outputs": [],
   "source": [
    "resultsContainer = nel.auxiliary.ResultsContainer(asa=asa)\n",
    "resultsContainer.save_pkl(\"/home/shayok/Documents/Data/myRodents/Weller/Day5/control1/preFamSleepCh24-raw.nel\")"
   ]
  },
  {
   "cell_type": "markdown",
   "metadata": {},
   "source": [
    "# Remove stim artificats if postFamSession"
   ]
  },
  {
   "cell_type": "code",
   "execution_count": 60,
   "metadata": {},
   "outputs": [
    {
     "name": "stderr",
     "output_type": "stream",
     "text": [
      "WARNING:root:ignoring signal outside of support\n"
     ]
    },
    {
     "data": {
      "image/png": "[encoded data removed]",
      "text/plain": [
       "<Figure size 432x288 with 1 Axes>"
      ]
     },
     "metadata": {
      "needs_background": "light"
     },
     "output_type": "display_data"
    }
   ],
   "source": [
    "# plot example artifact\n",
    "npl.plot(asa[nel.EpochArray([20,25])])"
   ]
  },
  {
   "cell_type": "code",
   "execution_count": 145,
   "metadata": {},
   "outputs": [
    {
     "ename": "MemoryError",
     "evalue": "Unable to allocate 255. MiB for an array with shape (33469878,) and data type float64",
     "output_type": "error",
     "traceback": [
      "\u001b[0;31m---------------------------------------------------------------------------\u001b[0m",
      "\u001b[0;31mMemoryError\u001b[0m                               Traceback (most recent call last)",
      "\u001b[0;32m<ipython-input-145-4e821045b7de>\u001b[0m in \u001b[0;36m<module>\u001b[0;34m\u001b[0m\n\u001b[1;32m      3\u001b[0m \u001b[0;31m# What we know is that the stimulation is biphasic with 100 us per phase\u001b[0m\u001b[0;34m\u001b[0m\u001b[0;34m\u001b[0m\u001b[0;34m\u001b[0m\u001b[0m\n\u001b[1;32m      4\u001b[0m \u001b[0;31m# so I imagine it's in the 10 kHz range?\u001b[0m\u001b[0;34m\u001b[0m\u001b[0;34m\u001b[0m\u001b[0;34m\u001b[0m\u001b[0m\n\u001b[0;32m----> 5\u001b[0;31m \u001b[0mstimBand\u001b[0m \u001b[0;34m=\u001b[0m \u001b[0mnel\u001b[0m\u001b[0;34m.\u001b[0m\u001b[0mfiltering\u001b[0m\u001b[0;34m.\u001b[0m\u001b[0msosfiltfilt\u001b[0m\u001b[0;34m(\u001b[0m\u001b[0masa\u001b[0m\u001b[0;34m[\u001b[0m\u001b[0;34m:\u001b[0m\u001b[0;34m,\u001b[0m\u001b[0;36m0\u001b[0m\u001b[0;34m]\u001b[0m\u001b[0;34m,\u001b[0m\u001b[0mfl\u001b[0m\u001b[0;34m=\u001b[0m\u001b[0;36m8000\u001b[0m\u001b[0;34m,\u001b[0m\u001b[0mfh\u001b[0m\u001b[0;34m=\u001b[0m\u001b[0;36m12000\u001b[0m\u001b[0;34m)\u001b[0m \u001b[0;31m# arbitrary range\u001b[0m\u001b[0;34m\u001b[0m\u001b[0;34m\u001b[0m\u001b[0m\n\u001b[0m",
      "\u001b[0;32m~/Documents/Code/nelpy/nelpy/filtering.py\u001b[0m in \u001b[0;36msosfiltfilt\u001b[0;34m(timeseries, fl, fh, fs, inplace, bandstop, gpass, gstop, ftype, buffer_len, overlap_len, parallel, **kwargs)\u001b[0m\n\u001b[1;32m    108\u001b[0m         \u001b[0mout\u001b[0m \u001b[0;34m=\u001b[0m \u001b[0mtimeseries\u001b[0m\u001b[0;34m\u001b[0m\u001b[0;34m\u001b[0m\u001b[0m\n\u001b[1;32m    109\u001b[0m     \u001b[0;32melse\u001b[0m\u001b[0;34m:\u001b[0m\u001b[0;34m\u001b[0m\u001b[0;34m\u001b[0m\u001b[0m\n\u001b[0;32m--> 110\u001b[0;31m         \u001b[0mout\u001b[0m \u001b[0;34m=\u001b[0m \u001b[0mdeepcopy\u001b[0m\u001b[0;34m(\u001b[0m\u001b[0mtimeseries\u001b[0m\u001b[0;34m)\u001b[0m\u001b[0;34m\u001b[0m\u001b[0;34m\u001b[0m\u001b[0m\n\u001b[0m\u001b[1;32m    111\u001b[0m     \u001b[0;32mif\u001b[0m \u001b[0moverlap_len\u001b[0m \u001b[0;32mis\u001b[0m \u001b[0;32mNone\u001b[0m\u001b[0;34m:\u001b[0m\u001b[0;34m\u001b[0m\u001b[0;34m\u001b[0m\u001b[0m\n\u001b[1;32m    112\u001b[0m         \u001b[0moverlap_len\u001b[0m \u001b[0;34m=\u001b[0m \u001b[0mint\u001b[0m\u001b[0;34m(\u001b[0m\u001b[0mfs\u001b[0m\u001b[0;34m*\u001b[0m\u001b[0;36m2\u001b[0m\u001b[0;34m)\u001b[0m\u001b[0;34m\u001b[0m\u001b[0;34m\u001b[0m\u001b[0m\n",
      "\u001b[0;32m~/anaconda3/envs/py36/lib/python3.6/copy.py\u001b[0m in \u001b[0;36mdeepcopy\u001b[0;34m(x, memo, _nil)\u001b[0m\n\u001b[1;32m    178\u001b[0m                     \u001b[0my\u001b[0m \u001b[0;34m=\u001b[0m \u001b[0mx\u001b[0m\u001b[0;34m\u001b[0m\u001b[0;34m\u001b[0m\u001b[0m\n\u001b[1;32m    179\u001b[0m                 \u001b[0;32melse\u001b[0m\u001b[0;34m:\u001b[0m\u001b[0;34m\u001b[0m\u001b[0;34m\u001b[0m\u001b[0m\n\u001b[0;32m--> 180\u001b[0;31m                     \u001b[0my\u001b[0m \u001b[0;34m=\u001b[0m \u001b[0m_reconstruct\u001b[0m\u001b[0;34m(\u001b[0m\u001b[0mx\u001b[0m\u001b[0;34m,\u001b[0m \u001b[0mmemo\u001b[0m\u001b[0;34m,\u001b[0m \u001b[0;34m*\u001b[0m\u001b[0mrv\u001b[0m\u001b[0;34m)\u001b[0m\u001b[0;34m\u001b[0m\u001b[0;34m\u001b[0m\u001b[0m\n\u001b[0m\u001b[1;32m    181\u001b[0m \u001b[0;34m\u001b[0m\u001b[0m\n\u001b[1;32m    182\u001b[0m     \u001b[0;31m# If is its own copy, don't memoize.\u001b[0m\u001b[0;34m\u001b[0m\u001b[0;34m\u001b[0m\u001b[0;34m\u001b[0m\u001b[0m\n",
      "\u001b[0;32m~/anaconda3/envs/py36/lib/python3.6/copy.py\u001b[0m in \u001b[0;36m_reconstruct\u001b[0;34m(x, memo, func, args, state, listiter, dictiter, deepcopy)\u001b[0m\n\u001b[1;32m    278\u001b[0m     \u001b[0;32mif\u001b[0m \u001b[0mstate\u001b[0m \u001b[0;32mis\u001b[0m \u001b[0;32mnot\u001b[0m \u001b[0;32mNone\u001b[0m\u001b[0;34m:\u001b[0m\u001b[0;34m\u001b[0m\u001b[0;34m\u001b[0m\u001b[0m\n\u001b[1;32m    279\u001b[0m         \u001b[0;32mif\u001b[0m \u001b[0mdeep\u001b[0m\u001b[0;34m:\u001b[0m\u001b[0;34m\u001b[0m\u001b[0;34m\u001b[0m\u001b[0m\n\u001b[0;32m--> 280\u001b[0;31m             \u001b[0mstate\u001b[0m \u001b[0;34m=\u001b[0m \u001b[0mdeepcopy\u001b[0m\u001b[0;34m(\u001b[0m\u001b[0mstate\u001b[0m\u001b[0;34m,\u001b[0m \u001b[0mmemo\u001b[0m\u001b[0;34m)\u001b[0m\u001b[0;34m\u001b[0m\u001b[0;34m\u001b[0m\u001b[0m\n\u001b[0m\u001b[1;32m    281\u001b[0m         \u001b[0;32mif\u001b[0m \u001b[0mhasattr\u001b[0m\u001b[0;34m(\u001b[0m\u001b[0my\u001b[0m\u001b[0;34m,\u001b[0m \u001b[0;34m'__setstate__'\u001b[0m\u001b[0;34m)\u001b[0m\u001b[0;34m:\u001b[0m\u001b[0;34m\u001b[0m\u001b[0;34m\u001b[0m\u001b[0m\n\u001b[1;32m    282\u001b[0m             \u001b[0my\u001b[0m\u001b[0;34m.\u001b[0m\u001b[0m__setstate__\u001b[0m\u001b[0;34m(\u001b[0m\u001b[0mstate\u001b[0m\u001b[0;34m)\u001b[0m\u001b[0;34m\u001b[0m\u001b[0;34m\u001b[0m\u001b[0m\n",
      "\u001b[0;32m~/anaconda3/envs/py36/lib/python3.6/copy.py\u001b[0m in \u001b[0;36mdeepcopy\u001b[0;34m(x, memo, _nil)\u001b[0m\n\u001b[1;32m    148\u001b[0m     \u001b[0mcopier\u001b[0m \u001b[0;34m=\u001b[0m \u001b[0m_deepcopy_dispatch\u001b[0m\u001b[0;34m.\u001b[0m\u001b[0mget\u001b[0m\u001b[0;34m(\u001b[0m\u001b[0mcls\u001b[0m\u001b[0;34m)\u001b[0m\u001b[0;34m\u001b[0m\u001b[0;34m\u001b[0m\u001b[0m\n\u001b[1;32m    149\u001b[0m     \u001b[0;32mif\u001b[0m \u001b[0mcopier\u001b[0m\u001b[0;34m:\u001b[0m\u001b[0;34m\u001b[0m\u001b[0;34m\u001b[0m\u001b[0m\n\u001b[0;32m--> 150\u001b[0;31m         \u001b[0my\u001b[0m \u001b[0;34m=\u001b[0m \u001b[0mcopier\u001b[0m\u001b[0;34m(\u001b[0m\u001b[0mx\u001b[0m\u001b[0;34m,\u001b[0m \u001b[0mmemo\u001b[0m\u001b[0;34m)\u001b[0m\u001b[0;34m\u001b[0m\u001b[0;34m\u001b[0m\u001b[0m\n\u001b[0m\u001b[1;32m    151\u001b[0m     \u001b[0;32melse\u001b[0m\u001b[0;34m:\u001b[0m\u001b[0;34m\u001b[0m\u001b[0;34m\u001b[0m\u001b[0m\n\u001b[1;32m    152\u001b[0m         \u001b[0;32mtry\u001b[0m\u001b[0;34m:\u001b[0m\u001b[0;34m\u001b[0m\u001b[0;34m\u001b[0m\u001b[0m\n",
      "\u001b[0;32m~/anaconda3/envs/py36/lib/python3.6/copy.py\u001b[0m in \u001b[0;36m_deepcopy_dict\u001b[0;34m(x, memo, deepcopy)\u001b[0m\n\u001b[1;32m    238\u001b[0m     \u001b[0mmemo\u001b[0m\u001b[0;34m[\u001b[0m\u001b[0mid\u001b[0m\u001b[0;34m(\u001b[0m\u001b[0mx\u001b[0m\u001b[0;34m)\u001b[0m\u001b[0;34m]\u001b[0m \u001b[0;34m=\u001b[0m \u001b[0my\u001b[0m\u001b[0;34m\u001b[0m\u001b[0;34m\u001b[0m\u001b[0m\n\u001b[1;32m    239\u001b[0m     \u001b[0;32mfor\u001b[0m \u001b[0mkey\u001b[0m\u001b[0;34m,\u001b[0m \u001b[0mvalue\u001b[0m \u001b[0;32min\u001b[0m \u001b[0mx\u001b[0m\u001b[0;34m.\u001b[0m\u001b[0mitems\u001b[0m\u001b[0;34m(\u001b[0m\u001b[0;34m)\u001b[0m\u001b[0;34m:\u001b[0m\u001b[0;34m\u001b[0m\u001b[0;34m\u001b[0m\u001b[0m\n\u001b[0;32m--> 240\u001b[0;31m         \u001b[0my\u001b[0m\u001b[0;34m[\u001b[0m\u001b[0mdeepcopy\u001b[0m\u001b[0;34m(\u001b[0m\u001b[0mkey\u001b[0m\u001b[0;34m,\u001b[0m \u001b[0mmemo\u001b[0m\u001b[0;34m)\u001b[0m\u001b[0;34m]\u001b[0m \u001b[0;34m=\u001b[0m \u001b[0mdeepcopy\u001b[0m\u001b[0;34m(\u001b[0m\u001b[0mvalue\u001b[0m\u001b[0;34m,\u001b[0m \u001b[0mmemo\u001b[0m\u001b[0;34m)\u001b[0m\u001b[0;34m\u001b[0m\u001b[0;34m\u001b[0m\u001b[0m\n\u001b[0m\u001b[1;32m    241\u001b[0m     \u001b[0;32mreturn\u001b[0m \u001b[0my\u001b[0m\u001b[0;34m\u001b[0m\u001b[0;34m\u001b[0m\u001b[0m\n\u001b[1;32m    242\u001b[0m \u001b[0md\u001b[0m\u001b[0;34m[\u001b[0m\u001b[0mdict\u001b[0m\u001b[0;34m]\u001b[0m \u001b[0;34m=\u001b[0m \u001b[0m_deepcopy_dict\u001b[0m\u001b[0;34m\u001b[0m\u001b[0;34m\u001b[0m\u001b[0m\n",
      "\u001b[0;32m~/anaconda3/envs/py36/lib/python3.6/copy.py\u001b[0m in \u001b[0;36mdeepcopy\u001b[0;34m(x, memo, _nil)\u001b[0m\n\u001b[1;32m    159\u001b[0m             \u001b[0mcopier\u001b[0m \u001b[0;34m=\u001b[0m \u001b[0mgetattr\u001b[0m\u001b[0;34m(\u001b[0m\u001b[0mx\u001b[0m\u001b[0;34m,\u001b[0m \u001b[0;34m\"__deepcopy__\"\u001b[0m\u001b[0;34m,\u001b[0m \u001b[0;32mNone\u001b[0m\u001b[0;34m)\u001b[0m\u001b[0;34m\u001b[0m\u001b[0;34m\u001b[0m\u001b[0m\n\u001b[1;32m    160\u001b[0m             \u001b[0;32mif\u001b[0m \u001b[0mcopier\u001b[0m\u001b[0;34m:\u001b[0m\u001b[0;34m\u001b[0m\u001b[0;34m\u001b[0m\u001b[0m\n\u001b[0;32m--> 161\u001b[0;31m                 \u001b[0my\u001b[0m \u001b[0;34m=\u001b[0m \u001b[0mcopier\u001b[0m\u001b[0;34m(\u001b[0m\u001b[0mmemo\u001b[0m\u001b[0;34m)\u001b[0m\u001b[0;34m\u001b[0m\u001b[0;34m\u001b[0m\u001b[0m\n\u001b[0m\u001b[1;32m    162\u001b[0m             \u001b[0;32melse\u001b[0m\u001b[0;34m:\u001b[0m\u001b[0;34m\u001b[0m\u001b[0;34m\u001b[0m\u001b[0m\n\u001b[1;32m    163\u001b[0m                 \u001b[0mreductor\u001b[0m \u001b[0;34m=\u001b[0m \u001b[0mdispatch_table\u001b[0m\u001b[0;34m.\u001b[0m\u001b[0mget\u001b[0m\u001b[0;34m(\u001b[0m\u001b[0mcls\u001b[0m\u001b[0;34m)\u001b[0m\u001b[0;34m\u001b[0m\u001b[0;34m\u001b[0m\u001b[0m\n",
      "\u001b[0;31mMemoryError\u001b[0m: Unable to allocate 255. MiB for an array with shape (33469878,) and data type float64"
     ]
    }
   ],
   "source": [
    "# stim artifacts are high frequency (relative to everything else)\n",
    "# so let's filter to that band.\n",
    "# What we know is that the stimulation is biphasic with 100 us per phase \n",
    "# so I imagine it's in the 10 kHz range?\n",
    "stimBand = nel.filtering.sosfiltfilt(asa[:,0],fl=8000,fh=12000) # arbitrary range"
   ]
  },
  {
   "cell_type": "code",
   "execution_count": 62,
   "metadata": {},
   "outputs": [
    {
     "data": {
      "image/png": "[encoded data removed]",
      "text/plain": [
       "<Figure size 432x288 with 1 Axes>"
      ]
     },
     "metadata": {
      "needs_background": "light"
     },
     "output_type": "display_data"
    }
   ],
   "source": [
    "npl.plot(stimBand)"
   ]
  },
  {
   "cell_type": "code",
   "execution_count": 63,
   "metadata": {},
   "outputs": [
    {
     "name": "stderr",
     "output_type": "stream",
     "text": [
      "WARNING:root:ignoring signal outside of support\n"
     ]
    },
    {
     "data": {
      "text/plain": [
       "<matplotlib.collections.LineCollection at 0x7f5dd0853978>"
      ]
     },
     "execution_count": 63,
     "metadata": {},
     "output_type": "execute_result"
    },
    {
     "data": {
      "image/png": "[encoded data removed]",
      "text/plain": [
       "<Figure size 432x288 with 1 Axes>"
      ]
     },
     "metadata": {
      "needs_background": "light"
     },
     "output_type": "display_data"
    }
   ],
   "source": [
    "ax = plt.gca()\n",
    "npl.plot(stimBand[nel.EpochArray([0,60])])\n",
    "plt.hlines(y=30,xmin=0,xmax=60,color='red')"
   ]
  },
  {
   "cell_type": "code",
   "execution_count": 9,
   "metadata": {},
   "outputs": [],
   "source": [
    "import scipy.signal as signal"
   ]
  },
  {
   "cell_type": "code",
   "execution_count": 64,
   "metadata": {},
   "outputs": [],
   "source": [
    "arbitraryThreshold = 30 # threshold after filtering that looks \"good enough\"\n",
    "distanceBetweenPeaks = 200e-3*30000 # lockout period\n",
    "peaks = signal.find_peaks(stimBand.data.squeeze(),height=arbitraryThreshold,\\\n",
    "                          distance=distanceBetweenPeaks)"
   ]
  },
  {
   "cell_type": "code",
   "execution_count": 65,
   "metadata": {},
   "outputs": [],
   "source": [
    "peakIdx = peaks[0] # getting these into timestamps"
   ]
  },
  {
   "cell_type": "code",
   "execution_count": 66,
   "metadata": {},
   "outputs": [
    {
     "data": {
      "text/plain": [
       "array([225.49289669, 291.07321882, 318.8969983 , 140.82119437,\n",
       "       221.22345447, 310.03415599, 152.55280543, 265.78991618,\n",
       "       289.99694623, 162.94467463, 191.68362768, 197.08059435,\n",
       "       233.32676925, 282.90009822, 275.48169178, 345.29912377,\n",
       "       335.07631786, 318.75276152, 236.25041215, 127.77873215,\n",
       "       251.652619  , 230.73261025, 280.41653102, 243.24593999,\n",
       "       240.7806134 , 194.51897311,  66.6528461 , 271.39481059,\n",
       "       268.14287155, 254.35520897, 262.60776978, 283.11405116,\n",
       "       267.23004798, 192.12723074, 275.02336056, 225.39383057,\n",
       "       203.18348881, 165.06896934, 173.72082642, 223.96427673,\n",
       "       315.54375642, 160.49153766, 274.98512605, 222.30456865,\n",
       "       310.00124137, 167.630736  , 130.47925328, 150.84861701,\n",
       "       179.32396352,  44.73373016])"
      ]
     },
     "execution_count": 66,
     "metadata": {},
     "output_type": "execute_result"
    }
   ],
   "source": [
    "stimBand.data.squeeze()[peakIdx][0:50]"
   ]
  },
  {
   "cell_type": "code",
   "execution_count": 67,
   "metadata": {},
   "outputs": [
    {
     "data": {
      "text/plain": [
       "array([  3.37823333,   3.87206667,   6.69873333,   8.34453333,\n",
       "         9.16693333,  12.98516667,  16.43426667,  22.8562    ,\n",
       "        25.17713333,  27.50843333,  31.63266667,  34.42403333,\n",
       "        34.92006667,  35.56863333,  39.00033333,  45.4652    ,\n",
       "        53.46646667,  55.64713333,  56.42466667,  57.67196667,\n",
       "        58.29766667,  61.266     ,  66.6165    ,  67.06333333,\n",
       "        68.02523333,  71.38193333,  73.2693    ,  73.9523    ,\n",
       "        76.78426667,  77.3882    ,  78.02346667,  78.60846667,\n",
       "        79.21686667,  80.44736667,  84.53826667,  85.00776667,\n",
       "        87.20763333,  88.1773    ,  88.6296    ,  93.52946667,\n",
       "        98.90613333, 100.36133333, 101.37953333, 101.93156667,\n",
       "       102.68276667, 104.0883    , 105.661     , 106.64826667,\n",
       "       107.22493333, 107.97946667])"
      ]
     },
     "execution_count": 67,
     "metadata": {},
     "output_type": "execute_result"
    }
   ],
   "source": [
    "asa.time[peakIdx][0:50]"
   ]
  },
  {
   "cell_type": "code",
   "execution_count": 68,
   "metadata": {},
   "outputs": [
    {
     "name": "stderr",
     "output_type": "stream",
     "text": [
      "WARNING:root:ignoring signal outside of support\n"
     ]
    },
    {
     "data": {
      "text/plain": [
       "<matplotlib.collections.PathCollection at 0x7f5d8c2bfa58>"
      ]
     },
     "execution_count": 68,
     "metadata": {},
     "output_type": "execute_result"
    },
    {
     "data": {
      "image/png": "[encoded data removed]",
      "text/plain": [
       "<Figure size 432x288 with 1 Axes>"
      ]
     },
     "metadata": {
      "needs_background": "light"
     },
     "output_type": "display_data"
    }
   ],
   "source": [
    "ax = plt.gca()\n",
    "npl.plot(stimBand[nel.EpochArray([0,30])])\n",
    "plt.hlines(y=30,xmin=0,xmax=60,color='red')\n",
    "plt.scatter(asa.time[peakIdx],np.ones(len(peakIdx))*150)"
   ]
  },
  {
   "cell_type": "code",
   "execution_count": 83,
   "metadata": {},
   "outputs": [],
   "source": [
    "# now that we have the peaks\n",
    "# let's go ahead and make epochs that remove the artifacts\n",
    "# if these are the peaks and 100 us biphasic pulse then \n",
    "# the epochs should be 200 us with the peaks being the center\n",
    "# let's give it a little more tolerance than that\n",
    "arbitraryTolerance = 300e-6\n",
    "stimBounds = np.zeros((len(peakIdx),2))\n",
    "stimBounds[:,0] = asa.time[peakIdx] - 2*arbitraryTolerance\n",
    "stimBounds[:,1] = asa.time[peakIdx] + arbitraryTolerance\n",
    "stimEpochs = nel.EpochArray(stimBounds)"
   ]
  },
  {
   "cell_type": "code",
   "execution_count": 84,
   "metadata": {},
   "outputs": [
    {
     "name": "stderr",
     "output_type": "stream",
     "text": [
      "WARNING:root:ignoring signal outside of support\n"
     ]
    },
    {
     "data": {
      "text/plain": [
       "<matplotlib.axes._subplots.AxesSubplot at 0x7f5d7fbc3f60>"
      ]
     },
     "execution_count": 84,
     "metadata": {},
     "output_type": "execute_result"
    },
    {
     "data": {
      "image/png": "[encoded data removed]",
      "text/plain": [
       "<Figure size 432x288 with 1 Axes>"
      ]
     },
     "metadata": {
      "needs_background": "light"
     },
     "output_type": "display_data"
    }
   ],
   "source": [
    "ax = plt.gca()\n",
    "npl.plot(stimBand[nel.EpochArray([0,30])])\n",
    "npl.epochplot(stimEpochs[nel.EpochArray([0,30])],alpha=0.75)"
   ]
  },
  {
   "cell_type": "code",
   "execution_count": 93,
   "metadata": {},
   "outputs": [
    {
     "name": "stderr",
     "output_type": "stream",
     "text": [
      "WARNING:root:ignoring signal outside of support\n",
      "WARNING:root:ignoring signal outside of support\n"
     ]
    },
    {
     "data": {
      "text/plain": [
       "<matplotlib.collections.PathCollection at 0x7f5d7f749780>"
      ]
     },
     "execution_count": 93,
     "metadata": {},
     "output_type": "execute_result"
    },
    {
     "data": {
      "image/png": "[encoded data removed]",
      "text/plain": [
       "<Figure size 432x288 with 1 Axes>"
      ]
     },
     "metadata": {
      "needs_background": "light"
     },
     "output_type": "display_data"
    }
   ],
   "source": [
    "timewindow = [3.37,3.38]\n",
    "ax = plt.gca()\n",
    "npl.plot(asa[nel.EpochArray(timewindow)])\n",
    "npl.plot(stimBand[nel.EpochArray(timewindow)])\n",
    "npl.epochplot(stimEpochs[nel.EpochArray(timewindow)],alpha=0.75)\n",
    "plt.scatter(asa.time[peakIdx],np.ones(len(peakIdx))*2000,c='green',linewidths=1)"
   ]
  },
  {
   "cell_type": "code",
   "execution_count": 94,
   "metadata": {},
   "outputs": [
    {
     "name": "stderr",
     "output_type": "stream",
     "text": [
      "WARNING:root:ignoring signal outside of support\n",
      "WARNING:root:ignoring signal outside of support\n",
      "WARNING:root:ignoring signal outside of support\n"
     ]
    },
    {
     "data": {
      "image/png": "[encoded data removed]",
      "text/plain": [
       "<Figure size 432x288 with 1 Axes>"
      ]
     },
     "metadata": {
      "needs_background": "light"
     },
     "output_type": "display_data"
    }
   ],
   "source": [
    "# plot example artifact\n",
    "npl.plot(asa[nel.EpochArray(timewindow)],color='red')\n",
    "npl.plot(asa[~stimEpochs][nel.EpochArray(timewindow)],color='black')"
   ]
  },
  {
   "cell_type": "code",
   "execution_count": 95,
   "metadata": {},
   "outputs": [
    {
     "name": "stderr",
     "output_type": "stream",
     "text": [
      "WARNING:root:ignoring signal outside of support\n"
     ]
    }
   ],
   "source": [
    "asa = asa[~stimEpochs] # remove stim artifacts\n",
    "asa = nel.filtering.sosfiltfilt(asa,fl=0.1,fh=400) # lfp/anti-aliasing filter"
   ]
  },
  {
   "cell_type": "markdown",
   "metadata": {},
   "source": [
    "We need to subsample this to 3kHz but can't do it on my lappy so save the data and upload it to google drive. Rest of this will be on my desky"
   ]
  },
  {
   "cell_type": "code",
   "execution_count": 99,
   "metadata": {},
   "outputs": [
    {
     "name": "stderr",
     "output_type": "stream",
     "text": [
      "WARNING:root:ignoring signal outside of support\n"
     ]
    },
    {
     "data": {
      "text/plain": [
       "(-1000.0, 1000.0)"
      ]
     },
     "execution_count": 99,
     "metadata": {},
     "output_type": "execute_result"
    },
    {
     "data": {
      "image/png": "[encoded data removed]",
      "text/plain": [
       "<Figure size 432x288 with 1 Axes>"
      ]
     },
     "metadata": {
      "needs_background": "light"
     },
     "output_type": "display_data"
    }
   ],
   "source": [
    "ax=plt.gca()\n",
    "npl.plot(asa[nel.EpochArray(timewindow)])\n",
    "ax.set_ylim(-1000,1000)"
   ]
  },
  {
   "cell_type": "code",
   "execution_count": 100,
   "metadata": {},
   "outputs": [],
   "source": [
    "resultsContainer = nel.auxiliary.ResultsContainer(asa=asa)\n",
    "resultsContainer.save_pkl(\"/home/shayok/Documents/Data/myRodents/Woodrow/Experiments/FONL/Control/3-31-19/postfamSleep2ch04.nel\")"
   ]
  },
  {
   "cell_type": "markdown",
   "metadata": {},
   "source": [
    "# Switch to Desktop"
   ]
  },
  {
   "cell_type": "code",
   "execution_count": null,
   "metadata": {},
   "outputs": [],
   "source": []
  },
  {
   "cell_type": "markdown",
   "metadata": {},
   "source": [
    "# PreFamSleep vs PostFamSleep"
   ]
  },
  {
   "cell_type": "code",
   "execution_count": null,
   "metadata": {},
   "outputs": [],
   "source": []
  },
  {
   "cell_type": "markdown",
   "metadata": {},
   "source": [
    "# Ripple counts vs Discrimination Index"
   ]
  },
  {
   "cell_type": "code",
   "execution_count": null,
   "metadata": {},
   "outputs": [],
   "source": []
  }
 ],
 "metadata": {
  "kernelspec": {
   "display_name": "Python 3",
   "language": "python",
   "name": "python3"
  },
  "language_info": {
   "codemirror_mode": {
    "name": "ipython",
    "version": 3
   },
   "file_extension": ".py",
   "mimetype": "text/x-python",
   "name": "python",
   "nbconvert_exporter": "python",
   "pygments_lexer": "ipython3",
   "version": "3.6.13"
  }
 },
 "nbformat": 4,
 "nbformat_minor": 4
}
