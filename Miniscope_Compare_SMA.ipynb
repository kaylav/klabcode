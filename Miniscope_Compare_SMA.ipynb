{
 "cells": [
  {
   "cell_type": "markdown",
   "id": "9cea68b1-16b2-4100-b672-4df4fa486288",
   "metadata": {},
   "source": [
    "## The aim of this file is to determine the frame rate of videos recorded using the v4 Miniscope connected with varying SMA M-M connectors."
   ]
  },
  {
   "cell_type": "code",
   "execution_count": 92,
   "id": "a310fab3-aed6-4ccb-9d78-050bc7d2661f",
   "metadata": {},
   "outputs": [],
   "source": [
    "import pandas as pd\n",
    "import numpy as np\n",
    "import matplotlib.pyplot as plt\n",
    "\n",
    "url_coax = 'https://drive.google.com/file/d/1OZk76rJTuCgyhw693OQu2J6pt1LK9K2q/view?usp=sharing'\n",
    "url_1ft = 'https://drive.google.com/file/d/1fSvnswkYLjajH__r3hCy0Cfg5hVJaAtL/view?usp=sharing'\n",
    "url_1ft_v2 = 'https://drive.google.com/file/d/16rFKyoT3GRGwGbDqbb8rIfAE2kMzMXvr/view?usp=sharing'\n",
    "url_6ft = 'https://drive.google.com/file/d/1Gu-FeeaeokVAxM0KaJJPyIIEszVcNAnp/view?usp=sharing'\n",
    "url_15ft = 'https://drive.google.com/file/d/1D6AuWDx430Gj-X7RnGRvveW6Da_qd8Mu/view?usp=sharing'\n",
    "\n"
   ]
  },
  {
   "cell_type": "code",
   "execution_count": 110,
   "id": "2e6a4e3f-c05e-4003-8f6a-c6e8279a5efe",
   "metadata": {},
   "outputs": [],
   "source": [
    "def get_dataframe(url):\n",
    "    print(\"~~~~~~~~~~~~~~\")\n",
    "    # Convert CSV file into pandas dataframe, separation by ';'\n",
    "    # Input: Takes in the URL of a Google Drive CSV file\n",
    "    # Output: Returns a dataframe of the CSV file\n",
    "    path = 'https://drive.google.com/uc?export=download&id='+url.split('/')[-2]\n",
    "    df = pd.read_csv(path, sep = ';')\n",
    "    df.rename(columns={'frame': 'frame', ' timestamp': 'timestamp'}, inplace=True)\n",
    "    print(df.head())\n",
    "    return df\n",
    "\n",
    "def get_n_frames(df):\n",
    "    # Number of Frames Captured\n",
    "    # Input: df\n",
    "    # Output: n_frames\n",
    "    n_frames = len(df['frame'])\n",
    "    print(\"Number of Frames = \", n_frames)\n",
    "    return n_frames\n",
    "\n",
    "def get_times(df):\n",
    "    # Return a numpy array of timestamps from the dataframe\n",
    "    # Input: df\n",
    "    # Output: numpy array of timestamps called times\n",
    "    times = df['timestamp'].to_numpy()\n",
    "    n_times = len(df['timestamp'])\n",
    "    end_time = df['timestamp'][n_times-1]\n",
    "    print(\"Number of Times = \", n_times)\n",
    "    print(\"Duration of Time = \", end_time)\n",
    "    return times\n",
    "\n",
    "def get_avg_frame_rate(times):\n",
    "    # Calculate average frame rate from the numpy array of times\n",
    "    # Input: times numpy awway\n",
    "    # Output: average_frame_rate number\n",
    "    end_time = times[-1]\n",
    "    avg_frame_rate = (len(times)/end_time)*1000\n",
    "    print(\"Average Frame Rate (frames/sec) = \", avg_frame_rate)\n",
    "    return avg_frame_rate\n",
    "\n",
    "def plot_hist(times, title=\"Histogram\"):\n",
    "    # Plot histogram of average time between frames\n",
    "    # Question: How does this relate to frame rate?\n",
    "    # Input: times numpy array, and (optional) title for Histogram\n",
    "    # Output: Unique time differences, called unique_time_diffs\n",
    "    frame_diffs = np.diff(times)\n",
    "    unique_time_diffs = np.unique(frame_diffs)\n",
    "    print(\"Unique Time Diffs = \", unique_time_diffs)\n",
    "    plt.hist(frame_diffs)\n",
    "    plt.title(title)\n",
    "    plt.show()\n",
    "    return unique_time_diffs"
   ]
  },
  {
   "cell_type": "code",
   "execution_count": 111,
   "id": "867a12e5-1eb6-40f0-b0b2-583ceef7d67b",
   "metadata": {},
   "outputs": [],
   "source": [
    "def frame_rate_info(url, title=\"Histogram\"):\n",
    "    # Takes in Google Drive CSV URL to print out statistics about the frame rate and plot histogram\n",
    "    # Input: URL, and (optional) histogram title\n",
    "    # Output: prints df, n_frames, time duration, avg frame rate, unique time diffs, and histogram\n",
    "    df = get_dataframe(url)\n",
    "    n_frames = get_n_frames(df)\n",
    "    times = get_times(df)\n",
    "    avg_frame_rate = get_avg_frame_rate(times)\n",
    "    frame_diffs = plot_hist(times, title)\n",
    "    return avg_frame_rate"
   ]
  },
  {
   "cell_type": "code",
   "execution_count": 112,
   "id": "05961241-b2c4-451a-9623-f5718e8017bf",
   "metadata": {},
   "outputs": [
    {
     "name": "stdout",
     "output_type": "stream",
     "text": [
      "~~~~~~~~~~~~~~\n",
      "   frame  timestamp\n",
      "0      1          0\n",
      "1      2         34\n",
      "2      3         68\n",
      "3      4        101\n",
      "4      5        135\n",
      "Number of Frames =  3103\n",
      "Number of Times =  3103\n",
      "Duration of Time =  104145\n",
      "Average Frame Rate (frames/sec) =  29.794997359450765\n",
      "Unique Time Diffs =  [33 34]\n"
     ]
    },
    {
     "data": {
      "image/png": "[encoded data removed]",
      "text/plain": [
       "<Figure size 432x288 with 1 Axes>"
      ]
     },
     "metadata": {
      "needs_background": "light"
     },
     "output_type": "display_data"
    },
    {
     "name": "stdout",
     "output_type": "stream",
     "text": [
      "~~~~~~~~~~~~~~\n",
      "   frame  timestamp\n",
      "0      1          0\n",
      "1      2         34\n",
      "2      3         67\n",
      "3      4        101\n",
      "4      5        134\n",
      "Number of Frames =  1766\n",
      "Number of Times =  1766\n",
      "Duration of Time =  64864\n",
      "Average Frame Rate (frames/sec) =  27.226196349284656\n",
      "Unique Time Diffs =  [ 26  28  29  30  31  32  33  34  35  36  37  39  41  43  58  61  67  68\n",
      "  92 101 111 135 136 442 468 469 470 475 503 538]\n"
     ]
    },
    {
     "data": {
      "image/png": "[encoded data removed]",
      "text/plain": [
       "<Figure size 432x288 with 1 Axes>"
      ]
     },
     "metadata": {
      "needs_background": "light"
     },
     "output_type": "display_data"
    },
    {
     "name": "stdout",
     "output_type": "stream",
     "text": [
      "~~~~~~~~~~~~~~\n",
      "   frame  timestamp\n",
      "0      1          0\n",
      "1      2         34\n",
      "2      3         67\n",
      "3      4        101\n",
      "4      5        135\n",
      "Number of Frames =  2357\n",
      "Number of Times =  2357\n",
      "Duration of Time =  93804\n",
      "Average Frame Rate (frames/sec) =  25.12686026182252\n",
      "Unique Time Diffs =  [ 32  33  34  35  36  43  55  57  59  60  67  68  77  78  90  91  92 100\n",
      " 101 102 111 124 134 135 145 167 168 171 443 445 470 503 504 513 536 537\n",
      " 571 705 873]\n"
     ]
    },
    {
     "data": {
      "image/png": "[encoded data removed]",
      "text/plain": [
       "<Figure size 432x288 with 1 Axes>"
      ]
     },
     "metadata": {
      "needs_background": "light"
     },
     "output_type": "display_data"
    },
    {
     "name": "stdout",
     "output_type": "stream",
     "text": [
      "~~~~~~~~~~~~~~\n",
      "   frame  timestamp\n",
      "0      1          0\n",
      "1      2         33\n",
      "2      3         67\n",
      "3      4        134\n",
      "4      5        167\n",
      "Number of Frames =  537\n",
      "Number of Times =  537\n",
      "Duration of Time =  41295\n",
      "Average Frame Rate (frames/sec) =  13.00399564111878\n",
      "Unique Time Diffs =  [  25   27   33   34   41   59   60   62   67   68   73  100  101  104\n",
      "  107  110  134  141  167  201  433  436  437  470  503  504  530  537\n",
      "  571  604  638  678  873  907  940 1041 1108 1242 1713]\n"
     ]
    },
    {
     "data": {
      "image/png": "[encoded data removed]",
      "text/plain": [
       "<Figure size 432x288 with 1 Axes>"
      ]
     },
     "metadata": {
      "needs_background": "light"
     },
     "output_type": "display_data"
    },
    {
     "name": "stdout",
     "output_type": "stream",
     "text": [
      "~~~~~~~~~~~~~~\n",
      "   frame  timestamp\n",
      "0      1          0\n",
      "1      2        134\n",
      "2      3        168\n",
      "3      4        201\n",
      "4      5        235\n",
      "Number of Frames =  710\n",
      "Number of Times =  710\n",
      "Duration of Time =  64729\n",
      "Average Frame Rate (frames/sec) =  10.968808416629331\n",
      "Unique Time Diffs =  [  25   31   32   33   34   35   38   44   57   58   59   60   61   62\n",
      "   63   67   68   70   74   77   90   94  100  101  102  103  131  134\n",
      "  135  136  139  141  168  169  201  202  302  443  444  470  502  503\n",
      "  504  513  537  538  571  603  638  670  839  915  940  972  974 1016\n",
      " 1040 1041 1107 1310 1343 1376 1444 1872]\n"
     ]
    },
    {
     "data": {
      "image/png": "[encoded data removed]",
      "text/plain": [
       "<Figure size 432x288 with 1 Axes>"
      ]
     },
     "metadata": {
      "needs_background": "light"
     },
     "output_type": "display_data"
    }
   ],
   "source": [
    "compare_frame_rates = {}\n",
    "\n",
    "compare_frame_rates['coax'] = frame_rate_info(url_coax, \"Histogram for Coax Cable\")\n",
    "compare_frame_rates['1ft'] = frame_rate_info(url_1ft, \"Histogram for 1ft Cable\")\n",
    "compare_frame_rates['1ft_v2'] = frame_rate_info(url_1ft_v2, \"Histogram for 1ft Cable v2\")\n",
    "compare_frame_rates['6ft'] = frame_rate_info(url_6ft, \"Histogram for 6ft Cable\")\n",
    "compare_frame_rates['15ft'] = frame_rate_info(url_15ft, \"Histogram for 15ft Cable\")"
   ]
  },
  {
   "cell_type": "code",
   "execution_count": 114,
   "id": "d73dce78-75b3-4fd9-abeb-9583b7f87493",
   "metadata": {},
   "outputs": [
    {
     "data": {
      "image/png": "[encoded data removed]",
      "text/plain": [
       "<Figure size 432x288 with 1 Axes>"
      ]
     },
     "metadata": {
      "needs_background": "light"
     },
     "output_type": "display_data"
    }
   ],
   "source": [
    "# Compare Frame Rate Results\n",
    "\n",
    "x = [0, 1, 1, 6, 15]\n",
    "y = compare_frame_rates.values()\n",
    "\n",
    "plt.stem(x, y)\n",
    "plt.title(\"Plot Comparing Cable Length and Frame Rate\")\n",
    "plt.xlabel(\"SMA Cable Length\")\n",
    "plt.ylabel(\"Average Frame Rate\")\n",
    "plt.savefig('compare_sma_framerate.png')\n",
    "plt.show()"
   ]
  },
  {
   "cell_type": "code",
   "execution_count": null,
   "id": "6f87e718-7fa1-4a53-9ff7-ba9e7230b653",
   "metadata": {},
   "outputs": [],
   "source": []
  }
 ],
 "metadata": {
  "kernelspec": {
   "display_name": "Python 3 (ipykernel)",
   "language": "python",
   "name": "python3"
  },
  "language_info": {
   "codemirror_mode": {
    "name": "ipython",
    "version": 3
   },
   "file_extension": ".py",
   "mimetype": "text/x-python",
   "name": "python",
   "nbconvert_exporter": "python",
   "pygments_lexer": "ipython3",
   "version": "3.9.7"
  }
 },
 "nbformat": 4,
 "nbformat_minor": 5
}
