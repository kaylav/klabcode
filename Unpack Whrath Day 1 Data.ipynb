{
 "cells": [
  {
   "cell_type": "markdown",
   "id": "e5603108",
   "metadata": {},
   "source": [
    "In this file I extract the raw data channels from rat, detect ripples, and save them for each channel with help of jagular and nelpy."
   ]
  },
  {
   "cell_type": "code",
   "execution_count": 2,
   "id": "e098bc2e",
   "metadata": {},
   "outputs": [],
   "source": [
    "import numpy as np\n",
    "import os\n",
    "import matplotlib.pyplot as plt\n",
    "import matplotlib as mpl\n",
    "import warnings\n",
    "warnings.simplefilter(\"ignore\", UserWarning)\n",
    "import nelpy as nel\n",
    "import nelpy.plotting as npl\n",
    "import jagular as jag\n",
    "\n",
    "prefix = '/home/kaylavokt/Desktop/Whrath/Day1/'\n",
    "rec_list = ['preFamSleep', 'fam', 'postFamSleep', 'test', 'postTestSleep']"
   ]
  },
  {
   "cell_type": "markdown",
   "id": "296853a4",
   "metadata": {},
   "source": [
    "# Unpack Wrath Data"
   ]
  },
  {
   "cell_type": "code",
   "execution_count": 7,
   "id": "329dcc72",
   "metadata": {},
   "outputs": [
    {
     "name": "stdout",
     "output_type": "stream",
     "text": [
      "/home/kaylavokt/Desktop/Whrath/Day1/preFamSleep.rec\n",
      "/home/kaylavokt/Desktop/Whrath/Day1/fam.rec\n",
      "/home/kaylavokt/Desktop/Whrath/Day1/postFamSleep.rec\n",
      "/home/kaylavokt/Desktop/Whrath/Day1/test.rec\n",
      "/home/kaylavokt/Desktop/Whrath/Day1/postTestSleep.rec\n"
     ]
    }
   ],
   "source": [
    "prefix = '/home/kaylavokt/Desktop/Whrath/Day1/'\n",
    "rec_list = ['preFamSleep', 'fam', 'postFamSleep', 'test', 'postTestSleep']\n",
    "\n",
    "for i in range(len(rec_list)):\n",
    "    rec = rec_list[i]\n",
    "    files = prefix + rec + '.rec'\n",
    "    os.system(\"mkdir \" + prefix + rec + \"_channels\")\n",
    "\n",
    "    # Jagular Extraction Stuff\n",
    "\n",
    "    jfm = jag.io.JagularFileMap(files)\n",
    "    max_gap_size = 10000\n",
    "    ts_out = prefix + rec + '_timestamps.raw'\n",
    "    ch_out_prefix = prefix + rec + '_channels/'\n",
    "    subset = [0, 1, 2, 3, 8, 9, 10, 11, 16, 17, 18, 19, 24, 25, 26, 27]\n",
    "    block_size = 2**21\n",
    "    verbose = False\n",
    "\n",
    "    #jag.utils.extract_channels(\n",
    "    #    jfm = jfm,\n",
    "    #    max_gap_size = max_gap_size,\n",
    "    #    ts_out = ts_out,\n",
    "    #    ch_out_prefix = ch_out_prefix,\n",
    "    #    subset = subset,\n",
    "    #    block_size = block_size,\n",
    "    #    verbose = verbose\n",
    "    #)\n",
    "    \n",
    "    print(files)"
   ]
  },
  {
   "cell_type": "markdown",
   "id": "9b7fe698",
   "metadata": {},
   "source": [
    "## Load Data into Nelpy Analog Signal Arrays"
   ]
  },
  {
   "cell_type": "code",
   "execution_count": 3,
   "id": "3eff91fc",
   "metadata": {},
   "outputs": [],
   "source": [
    "def loadUpData(prefix, rec, channels, verbose):\n",
    "    # loadUpData: this function takes in the filepath and type of recording\n",
    "    # ['preFamSleep', 'fam', 'postFamSleep', 'test', 'postTestSleep']\n",
    "    # and generates a nelpy analog signal array\n",
    "\n",
    "    ts = np.fromfile(prefix + rec + '_timestamps.raw', dtype = np.uint32)\n",
    "\n",
    "    chdata = []\n",
    "    for i in range(len(channels)):\n",
    "        if(channels[i]<10):\n",
    "            chdata.append(np.fromfile(prefix + rec + \"_channels/ch.0\" + str(channels[i]) + \".raw\",dtype=np.int16)*0.195)\n",
    "            if(verbose):\n",
    "                print(prefix + rec + \"_channels/ch.0\" + str(channels[i]) + \".raw\")\n",
    "        else:\n",
    "            chdata.append(np.fromfile(prefix + rec + \"_channels/ch.\" + str(channels[i]) + \".raw\",dtype=np.int16)*0.195)\n",
    "            if(verbose):\n",
    "                print(prefix + rec + \"_channels/ch.\" + str(channels[i]) + \".raw\")\n",
    "    \n",
    "    chdata = np.asarray(chdata)\n",
    "    return nel.AnalogSignalArray(\n",
    "    chdata,\n",
    "    abscissa_vals=(ts-ts[0])/30000,\n",
    "    )"
   ]
  },
  {
   "cell_type": "code",
   "execution_count": 6,
   "id": "2dcc1853",
   "metadata": {},
   "outputs": [
    {
     "name": "stderr",
     "output_type": "stream",
     "text": [
      "WARNING:root:fs was not specified, so we try to estimate it from the data...\n"
     ]
    },
    {
     "name": "stdout",
     "output_type": "stream",
     "text": [
      "/home/kaylavokt/Desktop/Whrath/Day1/preFamSleep_channels/ch.00.raw\n"
     ]
    },
    {
     "name": "stderr",
     "output_type": "stream",
     "text": [
      "WARNING:root:fs was estimated to be 29999.999999004103 Hz\n",
      "WARNING:root:creating support from abscissa_vals and sampling rate, fs!\n",
      "WARNING:root:'fs' has been deprecated; use 'step' instead\n",
      "WARNING:root:some steps in the data are smaller than the requested step size.\n"
     ]
    },
    {
     "name": "stdout",
     "output_type": "stream",
     "text": [
      "<AnalogSignalArray at 0x7f584bbfde80: 1 signals> for a total of 22:45:176 minutes\n"
     ]
    }
   ],
   "source": [
    "prefix = '/home/kaylavokt/Desktop/Whrath/Day1/'\n",
    "rec = rec_list[0]\n",
    "channels = [0]\n",
    "asa = loadUpData(prefix, rec, channels, True)\n",
    "print(asa)\n"
   ]
  },
  {
   "cell_type": "markdown",
   "id": "920a11dd",
   "metadata": {},
   "source": [
    "## Detect Ripples"
   ]
  },
  {
   "cell_type": "code",
   "execution_count": 4,
   "id": "1d58621c",
   "metadata": {},
   "outputs": [],
   "source": [
    "def extract_ripples(asa):\n",
    "    eeg = nel.filtering.sosfiltfilt(asa, fl=150, fh=250)\n",
    "    env = nel.utils.signal_envelope_1d(eeg, sigma=0.004)\n",
    "    bounds, _, _ = nel.utils.get_events_boundaries(env.data,\n",
    "    PrimaryThreshold=env.mean() + 3*env.std(),\n",
    "    SecondaryThreshold=env.mean(),\n",
    "    minThresholdLength=0.015,\n",
    "    minLength=0.05,\n",
    "    ds=1/env.fs)\n",
    "    timebounds = env.time[bounds]\n",
    "    timebounds[:, 1] += 1/env.fs\n",
    "    return nel.EpochArray(timebounds)"
   ]
  },
  {
   "cell_type": "code",
   "execution_count": 8,
   "id": "2ddf301a",
   "metadata": {},
   "outputs": [
    {
     "name": "stderr",
     "output_type": "stream",
     "text": [
      "/home/kaylavokt/nelpy/nelpy/utils.py:1225: FutureWarning: Using a non-tuple sequence for multidimensional indexing is deprecated; use `arr[tuple(seq)]` instead of `arr[seq]`. In the future this will be interpreted as an array index, `arr[np.array(seq)]`, which will result either in an error or a different result.\n"
     ]
    },
    {
     "name": "stdout",
     "output_type": "stream",
     "text": [
      "Number of Ripples Detected =  70\n"
     ]
    },
    {
     "name": "stderr",
     "output_type": "stream",
     "text": [
      "/home/kaylavokt/nelpy/nelpy/utils.py:1262: FutureWarning: Using a non-tuple sequence for multidimensional indexing is deprecated; use `arr[tuple(seq)]` instead of `arr[seq]`. In the future this will be interpreted as an array index, `arr[np.array(seq)]`, which will result either in an error or a different result.\n",
      "/home/kaylavokt/nelpy/nelpy/utils.py:1263: FutureWarning: Using a non-tuple sequence for multidimensional indexing is deprecated; use `arr[tuple(seq)]` instead of `arr[seq]`. In the future this will be interpreted as an array index, `arr[np.array(seq)]`, which will result either in an error or a different result.\n",
      "/home/kaylavokt/nelpy/nelpy/utils.py:1264: FutureWarning: Using a non-tuple sequence for multidimensional indexing is deprecated; use `arr[tuple(seq)]` instead of `arr[seq]`. In the future this will be interpreted as an array index, `arr[np.array(seq)]`, which will result either in an error or a different result.\n"
     ]
    }
   ],
   "source": [
    "# Preprocess by Subsampling\n",
    "asa = nel.filtering.sosfiltfilt(asa,fl=0.1,fh=400) # lfp/anti-aliasing filter\n",
    "asa = asa.subsample(fs=3000)\n",
    "\n",
    "ripple_epochs1 = extract_ripples(asa)\n",
    "\n",
    "print(\"Number of Ripples Detected = \", np.size(ripple_epochs1.lengths))\n"
   ]
  },
  {
   "cell_type": "markdown",
   "id": "976a1dbe",
   "metadata": {},
   "source": [
    "## Count Ripples for All Channels"
   ]
  },
  {
   "cell_type": "code",
   "execution_count": 9,
   "id": "ba57f83f",
   "metadata": {},
   "outputs": [
    {
     "name": "stdout",
     "output_type": "stream",
     "text": [
      "/home/kaylavokt/Desktop/Whrath/Day1/preFamSleep_channels/ch.00.raw\n",
      "/home/kaylavokt/Desktop/Whrath/Day1/preFamSleep_channels/ch.01.raw\n",
      "/home/kaylavokt/Desktop/Whrath/Day1/preFamSleep_channels/ch.02.raw\n",
      "/home/kaylavokt/Desktop/Whrath/Day1/preFamSleep_channels/ch.03.raw\n",
      "/home/kaylavokt/Desktop/Whrath/Day1/preFamSleep_channels/ch.08.raw\n",
      "/home/kaylavokt/Desktop/Whrath/Day1/preFamSleep_channels/ch.09.raw\n",
      "/home/kaylavokt/Desktop/Whrath/Day1/preFamSleep_channels/ch.10.raw\n",
      "/home/kaylavokt/Desktop/Whrath/Day1/preFamSleep_channels/ch.11.raw\n",
      "/home/kaylavokt/Desktop/Whrath/Day1/preFamSleep_channels/ch.16.raw\n",
      "/home/kaylavokt/Desktop/Whrath/Day1/preFamSleep_channels/ch.17.raw\n",
      "/home/kaylavokt/Desktop/Whrath/Day1/preFamSleep_channels/ch.18.raw\n",
      "/home/kaylavokt/Desktop/Whrath/Day1/preFamSleep_channels/ch.19.raw\n",
      "/home/kaylavokt/Desktop/Whrath/Day1/preFamSleep_channels/ch.24.raw\n",
      "/home/kaylavokt/Desktop/Whrath/Day1/preFamSleep_channels/ch.25.raw\n",
      "/home/kaylavokt/Desktop/Whrath/Day1/preFamSleep_channels/ch.26.raw\n",
      "/home/kaylavokt/Desktop/Whrath/Day1/preFamSleep_channels/ch.27.raw\n"
     ]
    },
    {
     "name": "stderr",
     "output_type": "stream",
     "text": [
      "WARNING:root:fs was not specified, so we try to estimate it from the data...\n",
      "WARNING:root:fs was estimated to be 29999.999999004103 Hz\n",
      "WARNING:root:creating support from abscissa_vals and sampling rate, fs!\n",
      "WARNING:root:'fs' has been deprecated; use 'step' instead\n",
      "WARNING:root:some steps in the data are smaller than the requested step size.\n"
     ]
    },
    {
     "name": "stdout",
     "output_type": "stream",
     "text": [
      "<AnalogSignalArray at 0x7f57ed3cf0f0: 16 signals> for a total of 22:45:176 minutes\n"
     ]
    }
   ],
   "source": [
    "prefix = '/home/kaylavokt/Desktop/Whrath/Day1/'\n",
    "rec = rec_list[0]\n",
    "channels = [0, 1, 2, 3, 8, 9, 10, 11, 16, 17, 18, 19, 24, 25, 26, 27]\n",
    "asa = loadUpData(prefix, rec, channels, True)\n",
    "print(asa)\n"
   ]
  },
  {
   "cell_type": "code",
   "execution_count": 38,
   "id": "c9a40f16",
   "metadata": {},
   "outputs": [],
   "source": [
    "# asa = nel.filtering.sosfiltfilt(asa,fl=0.1,fh=400) # lfp/anti-aliasing filter\n",
    "# asa = asa.subsample(fs=3000)\n",
    "\n",
    "# ripple_epochs = []\n",
    "# for s in range(len(channels)):\n",
    "#     # s stands for signal number in analog signal array\n",
    "#     epoch = extract_ripples(asa[:,s])\n",
    "#     ripple_epochs.append(epoch)\n",
    "#     print(\"Number of Ripples Detected from Channel \", channels[s], \" = \", np.size(epoch.lengths))\n"
   ]
  },
  {
   "cell_type": "code",
   "execution_count": 10,
   "id": "a38749e5",
   "metadata": {},
   "outputs": [
    {
     "name": "stdout",
     "output_type": "stream",
     "text": [
      "Number of Ripples Detected from Channel  0  =  70\n",
      "Number of Ripples Detected from Channel  1  =  58\n"
     ]
    }
   ],
   "source": [
    "asa = nel.filtering.sosfiltfilt(asa,fl=0.1,fh=400) # lfp/anti-aliasing filter\n",
    "asa = asa.subsample(fs=3000)\n",
    "channels = [0, 1, 2, 3, 8, 9, 10, 11, 16, 17, 18, 19, 24, 25, 26, 27]\n",
    "\n",
    "ripple_epochs = []\n",
    "\n",
    "for s in range(16):\n",
    "    epoch = extract_ripples(asa[:,s])\n",
    "    ripple_epochs.append(epoch)\n",
    "    print(\"Number of Ripples Detected from Channel \", channels[s], \" = \", np.size(epoch.lengths))\n",
    "\n"
   ]
  },
  {
   "cell_type": "code",
   "execution_count": 18,
   "id": "c08c56b3",
   "metadata": {},
   "outputs": [
    {
     "data": {
      "text/plain": [
       "[<EpochArray at 0x7f583b7d4128: 70 epochs> of length 9.45530000000000004 seconds,\n",
       " <EpochArray at 0x7f57cfe6f400: 58 epochs> of length 8.2627 seconds,\n",
       " <EpochArray at 0x7f57cfe6fb00: 64 epochs> of length 9.018699999999999998 seconds,\n",
       " <EpochArray at 0x7f584804d748: 55 epochs> of length 7.792 seconds,\n",
       " <EpochArray at 0x7f57cfe6f588: 50 epochs> of length 7.506 seconds,\n",
       " <EpochArray at 0x7f57cfe70ba8: 48 epochs> of length 7.36369999999999997 seconds,\n",
       " <EpochArray at 0x7f57cfe758d0: 71 epochs> of length 10.2897 seconds,\n",
       " <EpochArray at 0x7f583b7d46a0: 51 epochs> of length 7.666 seconds,\n",
       " <EpochArray at 0x7f57ed3cfbe0: 216 epochs> of length 23.748 seconds,\n",
       " <EpochArray at 0x7f57cfe49c88: 229 epochs> of length 25.0843 seconds,\n",
       " <EpochArray at 0x7f57cfe49710: 186 epochs> of length 20.8717 seconds,\n",
       " <EpochArray at 0x7f57ed366208: 199 epochs> of length 22.573 seconds,\n",
       " <EpochArray at 0x7f57cfe757f0: 168 epochs> of length 19.5842999999999999 seconds,\n",
       " <EpochArray at 0x7f57cfe70320: 141 epochs> of length 16.4263 seconds,\n",
       " <EpochArray at 0x7f57cfe5aa90: 103 epochs> of length 12.6187 seconds,\n",
       " <EpochArray at 0x7f57cfe64a20: 184 epochs> of length 21.1433 seconds]"
      ]
     },
     "execution_count": 18,
     "metadata": {},
     "output_type": "execute_result"
    }
   ],
   "source": [
    "ripple_epochs"
   ]
  },
  {
   "cell_type": "code",
   "execution_count": 20,
   "id": "bcfe67d0",
   "metadata": {},
   "outputs": [],
   "source": [
    "prefix = '/home/kaylavokt/Desktop/Whrath/Day1/'\n",
    "rec = rec_list[0]\n",
    "path = prefix + rec + '_channels/ripple_epochs.npy'\n",
    "np.save(path, ripple_epochs)\n",
    "\n",
    "# np.load(path, allow_pickle=True)"
   ]
  },
  {
   "cell_type": "markdown",
   "id": "9cb71f6a",
   "metadata": {},
   "source": [
    "## Save Ripple Epochs for each Recording Type"
   ]
  },
  {
   "cell_type": "code",
   "execution_count": 24,
   "id": "b6528c11",
   "metadata": {},
   "outputs": [
    {
     "name": "stdout",
     "output_type": "stream",
     "text": [
      "~~~ Load Up Data ~~~\n",
      "/home/kaylavokt/Desktop/Whrath/Day1/fam_channels/ch.00.raw\n",
      "/home/kaylavokt/Desktop/Whrath/Day1/fam_channels/ch.01.raw\n",
      "/home/kaylavokt/Desktop/Whrath/Day1/fam_channels/ch.02.raw\n",
      "/home/kaylavokt/Desktop/Whrath/Day1/fam_channels/ch.03.raw\n",
      "/home/kaylavokt/Desktop/Whrath/Day1/fam_channels/ch.08.raw\n",
      "/home/kaylavokt/Desktop/Whrath/Day1/fam_channels/ch.09.raw\n",
      "/home/kaylavokt/Desktop/Whrath/Day1/fam_channels/ch.10.raw\n",
      "/home/kaylavokt/Desktop/Whrath/Day1/fam_channels/ch.11.raw\n",
      "/home/kaylavokt/Desktop/Whrath/Day1/fam_channels/ch.16.raw\n",
      "/home/kaylavokt/Desktop/Whrath/Day1/fam_channels/ch.17.raw\n",
      "/home/kaylavokt/Desktop/Whrath/Day1/fam_channels/ch.18.raw\n",
      "/home/kaylavokt/Desktop/Whrath/Day1/fam_channels/ch.19.raw\n",
      "/home/kaylavokt/Desktop/Whrath/Day1/fam_channels/ch.24.raw\n",
      "/home/kaylavokt/Desktop/Whrath/Day1/fam_channels/ch.25.raw\n",
      "/home/kaylavokt/Desktop/Whrath/Day1/fam_channels/ch.26.raw\n",
      "/home/kaylavokt/Desktop/Whrath/Day1/fam_channels/ch.27.raw\n"
     ]
    },
    {
     "name": "stderr",
     "output_type": "stream",
     "text": [
      "WARNING:root:fs was not specified, so we try to estimate it from the data...\n",
      "WARNING:root:fs was estimated to be 29999.999999004103 Hz\n",
      "WARNING:root:creating support from abscissa_vals and sampling rate, fs!\n",
      "WARNING:root:'fs' has been deprecated; use 'step' instead\n",
      "WARNING:root:some steps in the data are smaller than the requested step size.\n"
     ]
    },
    {
     "name": "stdout",
     "output_type": "stream",
     "text": [
      "<AnalogSignalArray at 0x7f581dec5da0: 16 signals> for a total of 10:35:616 minutes\n",
      "~~~ Extract Ripples ~~~\n",
      "Number of Ripples Detected from Channel  0  =  18\n",
      "Number of Ripples Detected from Channel  1  =  32\n",
      "Number of Ripples Detected from Channel  2  =  28\n",
      "Number of Ripples Detected from Channel  3  =  32\n",
      "Number of Ripples Detected from Channel  8  =  17\n",
      "Number of Ripples Detected from Channel  9  =  20\n",
      "Number of Ripples Detected from Channel  10  =  21\n",
      "Number of Ripples Detected from Channel  11  =  18\n",
      "Number of Ripples Detected from Channel  16  =  26\n",
      "Number of Ripples Detected from Channel  17  =  22\n",
      "Number of Ripples Detected from Channel  18  =  19\n",
      "Number of Ripples Detected from Channel  19  =  37\n",
      "Number of Ripples Detected from Channel  24  =  31\n",
      "Number of Ripples Detected from Channel  25  =  24\n",
      "Number of Ripples Detected from Channel  26  =  26\n",
      "Number of Ripples Detected from Channel  27  =  22\n",
      "~~~ Ripple Epochs ~~~\n",
      "[<EpochArray at 0x7f581dee7ba8: 18 epochs> of length 4.49269999999999997 seconds, <EpochArray at 0x7f581ded1f98: 32 epochs> of length 6.387 seconds, <EpochArray at 0x7f581dec6278: 28 epochs> of length 4.832 seconds, <EpochArray at 0x7f583b7c66a0: 32 epochs> of length 5.5353 seconds, <EpochArray at 0x7f57ed3660f0: 17 epochs> of length 5.414 seconds, <EpochArray at 0x7f57cfe49b00: 20 epochs> of length 5.097 seconds, <EpochArray at 0x7f57cfe6ffd0: 21 epochs> of length 4.5687000000000001 seconds, <EpochArray at 0x7f57cfe75470: 18 epochs> of length 4.8577 seconds, <EpochArray at 0x7f581decc4e0: 26 epochs> of length 5.382 seconds, <EpochArray at 0x7f581dee7a20: 22 epochs> of length 5.1353 seconds, <EpochArray at 0x7f581dec6550: 19 epochs> of length 4.0143 seconds, <EpochArray at 0x7f583b7bf898: 37 epochs> of length 5.5427000000000001 seconds, <EpochArray at 0x7f581decc8d0: 31 epochs> of length 7.633 seconds, <EpochArray at 0x7f57cfe75cf8: 24 epochs> of length 6.4623 seconds, <EpochArray at 0x7f57cfe497f0: 26 epochs> of length 6.5692999999999999 seconds, <EpochArray at 0x7f57ed366518: 22 epochs> of length 6.946 seconds]\n",
      "~~~ Saving Ripple Epochs to npy ~~~\n"
     ]
    }
   ],
   "source": [
    "print(\"~~~ Load Up Data ~~~\")\n",
    "prefix = '/home/kaylavokt/Desktop/Whrath/Day1/'\n",
    "rec = rec_list[1] ## Change this for each Type of Recording\n",
    "channels = [0, 1, 2, 3, 8, 9, 10, 11, 16, 17, 18, 19, 24, 25, 26, 27]\n",
    "asa = loadUpData(prefix, rec, channels, True)\n",
    "print(asa)\n",
    "\n",
    "print(\"~~~ Extract Ripples ~~~\")\n",
    "asa = nel.filtering.sosfiltfilt(asa,fl=0.1,fh=400) # lfp/anti-aliasing filter\n",
    "asa = asa.subsample(fs=3000)\n",
    "\n",
    "ripple_epochs = []\n",
    "\n",
    "for s in range(16):\n",
    "    epoch = extract_ripples(asa[:,s])\n",
    "    ripple_epochs.append(epoch)\n",
    "    print(\"Number of Ripples Detected from Channel \", channels[s], \" = \", np.size(epoch.lengths))\n",
    "    \n",
    "print(\"~~~ Ripple Epochs ~~~\")\n",
    "print(ripple_epochs)\n",
    "\n",
    "print(\"~~~ Saving Ripple Epochs to npy ~~~\")\n",
    "path = prefix + rec + '_channels/ripple_epochs.npy'\n",
    "np.save(path, ripple_epochs)"
   ]
  },
  {
   "cell_type": "markdown",
   "id": "7e5c63bc-735f-4c90-83fe-da52bca2995c",
   "metadata": {},
   "source": [
    "## Get Noise Channel"
   ]
  },
  {
   "cell_type": "code",
   "execution_count": 5,
   "id": "e8981932-1d95-42f0-a59a-bfcdad7285a9",
   "metadata": {},
   "outputs": [
    {
     "name": "stdout",
     "output_type": "stream",
     "text": [
      "/home/kaylavokt/Desktop/Whrath/Day1/preFamSleep.rec\n",
      "/home/kaylavokt/Desktop/Whrath/Day1/fam.rec\n",
      "/home/kaylavokt/Desktop/Whrath/Day1/postFamSleep.rec\n",
      "/home/kaylavokt/Desktop/Whrath/Day1/test.rec\n",
      "/home/kaylavokt/Desktop/Whrath/Day1/postTestSleep.rec\n"
     ]
    }
   ],
   "source": [
    "prefix = '/home/kaylavokt/Desktop/Whrath/Day1/'\n",
    "rec_list = ['preFamSleep', 'fam', 'postFamSleep', 'test', 'postTestSleep']\n",
    "\n",
    "for i in range(len(rec_list)):\n",
    "    rec = rec_list[i]\n",
    "    files = prefix + rec + '.rec'\n",
    "\n",
    "    # Jagular Extraction Stuff\n",
    "\n",
    "    jfm = jag.io.JagularFileMap(files)\n",
    "    max_gap_size = 10000\n",
    "    ts_out = prefix + rec + '_timestamps.raw'\n",
    "    ch_out_prefix = prefix + rec + '_channels/noise_'\n",
    "    subset = [20] ## This is where we specify the Noise Channel\n",
    "    block_size = 2**21\n",
    "    verbose = False\n",
    "\n",
    "    jag.utils.extract_channels(\n",
    "       jfm = jfm,\n",
    "       max_gap_size = max_gap_size,\n",
    "       ts_out = ts_out,\n",
    "       ch_out_prefix = ch_out_prefix,\n",
    "       subset = subset,\n",
    "       block_size = block_size,\n",
    "       verbose = verbose\n",
    "    )\n",
    "    \n",
    "    print(files)\n"
   ]
  },
  {
   "cell_type": "code",
   "execution_count": 6,
   "id": "4325d117-51de-4d78-adec-80447c1942d4",
   "metadata": {},
   "outputs": [
    {
     "name": "stdout",
     "output_type": "stream",
     "text": [
      "/home/kaylavokt/Desktop/Whrath/Day1/preFamSleep_channels/noise_ch.05.raw\n"
     ]
    },
    {
     "name": "stderr",
     "output_type": "stream",
     "text": [
      "WARNING:root:fs was not specified, so we try to estimate it from the data...\n",
      "WARNING:root:fs was estimated to be 29999.999999004103 Hz\n",
      "WARNING:root:creating support from abscissa_vals and sampling rate, fs!\n",
      "WARNING:root:'fs' has been deprecated; use 'step' instead\n",
      "WARNING:root:some steps in the data are smaller than the requested step size.\n",
      "WARNING:root:fs was not specified, so we try to estimate it from the data...\n"
     ]
    },
    {
     "name": "stdout",
     "output_type": "stream",
     "text": [
      "/home/kaylavokt/Desktop/Whrath/Day1/preFamSleep_channels/noise_ch.20.raw\n"
     ]
    },
    {
     "name": "stderr",
     "output_type": "stream",
     "text": [
      "WARNING:root:fs was estimated to be 29999.999999004103 Hz\n",
      "WARNING:root:creating support from abscissa_vals and sampling rate, fs!\n",
      "WARNING:root:'fs' has been deprecated; use 'step' instead\n",
      "WARNING:root:some steps in the data are smaller than the requested step size.\n"
     ]
    },
    {
     "name": "stdout",
     "output_type": "stream",
     "text": [
      "<AnalogSignalArray at 0x7f963bd464e0: 1 signals> for a total of 22:45:176 minutes\n",
      "<AnalogSignalArray at 0x7f963bd46358: 1 signals> for a total of 22:45:176 minutes\n"
     ]
    }
   ],
   "source": [
    "    \n",
    "def loadUpNoise(prefix, rec, channels, verbose):\n",
    "    # loadUpData: this function takes in the filepath and type of recording\n",
    "    # ['preFamSleep', 'fam', 'postFamSleep', 'test', 'postTestSleep']\n",
    "    # and generates a nelpy analog signal array\n",
    "\n",
    "    ts = np.fromfile(prefix + rec + '_timestamps.raw', dtype = np.uint32)\n",
    "\n",
    "    chdata = []\n",
    "    for i in range(len(channels)):\n",
    "        if(channels[i]<10):\n",
    "            chdata.append(np.fromfile(prefix + rec + \"_channels/noise_ch.0\" + str(channels[i]) + \".raw\",dtype=np.int16)*0.195)\n",
    "            if(verbose):\n",
    "                print(prefix + rec + \"_channels/noise_ch.0\" + str(channels[i]) + \".raw\")\n",
    "        else:\n",
    "            chdata.append(np.fromfile(prefix + rec + \"_channels/noise_ch.\" + str(channels[i]) + \".raw\",dtype=np.int16)*0.195)\n",
    "            if(verbose):\n",
    "                print(prefix + rec + \"_channels/noise_ch.\" + str(channels[i]) + \".raw\")\n",
    "    \n",
    "    chdata = np.asarray(chdata)\n",
    "    return nel.AnalogSignalArray(\n",
    "    chdata,\n",
    "    abscissa_vals=(ts-ts[0])/30000,\n",
    "    )\n",
    "\n",
    "prefix = '/home/kaylavokt/Desktop/Whrath/Day1/'\n",
    "rec = rec_list[0]\n",
    "channels = [20]\n",
    "noise5 = loadUpNoise(prefix, rec, [5], True)\n",
    "noise20 = loadUpNoise(prefix, rec, [20], True)\n",
    "\n",
    "print(noise5)\n",
    "print(noise20)"
   ]
  },
  {
   "cell_type": "code",
   "execution_count": 8,
   "id": "967d83e4-c9d7-4b4a-b7b4-fdb174d75229",
   "metadata": {},
   "outputs": [
    {
     "data": {
      "image/png": "[encoded data removed]",
      "text/plain": [
       "<Figure size 432x288 with 1 Axes>"
      ]
     },
     "metadata": {
      "needs_background": "light"
     },
     "output_type": "display_data"
    }
   ],
   "source": [
    "npl.plot(noise5)\n",
    "npl.plot(noise20)"
   ]
  },
  {
   "cell_type": "code",
   "execution_count": null,
   "id": "cffd5247-95bf-40a7-823d-5c988971bec0",
   "metadata": {},
   "outputs": [],
   "source": []
  },
  {
   "cell_type": "code",
   "execution_count": 15,
   "id": "50d66eb9-db03-4302-b6d1-04a36865b622",
   "metadata": {},
   "outputs": [],
   "source": [
    "# noise = nel.filtering.sosfiltfilt(noise20,fl=0.1,fh=400) # lfp/anti-aliasing filter\n",
    "# noise = noise.subsample(fs=3000) # dont include for HF (both)\n",
    "\n",
    "# noise = noise20\n",
    "eeg = nel.filtering.sosfiltfilt(noise20, fl=80, fh=150) # fine rn because not looking at stim artifacts,ghostipy filtering example\n",
    "# env = nel.utils.signal_envelope_1d(eeg, sigma=0.004)\n",
    "\n",
    "# npl.plot(noise20)\n",
    "npl.plot(eeg)\n",
    "# npl.plot(env)\n"
   ]
  },
  {
   "cell_type": "code",
   "execution_count": 17,
   "id": "92c35775-4af6-4c96-a07f-73d5611fabc4",
   "metadata": {},
   "outputs": [],
   "source": [
    "npl.plot(eeg)\n",
    "npl.plot(asa + 4000, color='pink')\n"
   ]
  },
  {
   "cell_type": "code",
   "execution_count": 10,
   "id": "ba6f5c38-f57e-4cc1-82ec-302e9f15f3b8",
   "metadata": {},
   "outputs": [],
   "source": [
    "%matplotlib qt\n",
    "npl.plot(noise20)"
   ]
  },
  {
   "cell_type": "code",
   "execution_count": 13,
   "id": "1d00a081-420f-4320-b725-cb04a570dba1",
   "metadata": {},
   "outputs": [
    {
     "name": "stderr",
     "output_type": "stream",
     "text": [
      "WARNING:root:ignoring signal outside of support\n",
      "WARNING:root:ignoring signal outside of support\n",
      "WARNING:root:ignoring signal outside of support\n"
     ]
    }
   ],
   "source": [
    "window = [1120,1150]\n",
    "npl.plot(asa[nel.EpochArray(window)] + 4000, color='blue')\n",
    "npl.plot(eeg[nel.EpochArray(window)])\n",
    "npl.plot(env[nel.EpochArray(window)])"
   ]
  },
  {
   "cell_type": "code",
   "execution_count": 5,
   "id": "df37cb08-f618-4daf-b423-158c69e33f18",
   "metadata": {},
   "outputs": [],
   "source": [
    "def extract_noise(asa):\n",
    "    eeg = nel.filtering.sosfiltfilt(asa, fl=4, fh=250) # changed lower bound\n",
    "    env = nel.utils.signal_envelope_1d(eeg, sigma=0.004)\n",
    "    bounds, _, _ = nel.utils.get_events_boundaries(env.data,\n",
    "    PrimaryThreshold=env.mean() + 10*env.std(),\n",
    "    SecondaryThreshold=env.mean(),\n",
    "    minThresholdLength=0.015,\n",
    "    minLength=0.05,\n",
    "    ds=1/env.fs)\n",
    "    timebounds = env.time[bounds]\n",
    "    timebounds[:, 1] += 1/env.fs\n",
    "    return nel.EpochArray(timebounds)"
   ]
  },
  {
   "cell_type": "code",
   "execution_count": 36,
   "id": "82ad22ca-1391-4ae7-904a-e9c7e74bf3d8",
   "metadata": {},
   "outputs": [],
   "source": [
    "noise5_epochs = extract_noise(noise5)"
   ]
  },
  {
   "cell_type": "code",
   "execution_count": 6,
   "id": "f4aed89f-9c6c-40d8-a5a0-116f7466314b",
   "metadata": {},
   "outputs": [],
   "source": [
    "# noise5_epochs.data"
   ]
  },
  {
   "cell_type": "code",
   "execution_count": 11,
   "id": "a2d9791d-c9c1-4ea1-871c-c92ebdeb38e1",
   "metadata": {},
   "outputs": [
    {
     "name": "stderr",
     "output_type": "stream",
     "text": [
      "WARNING:root:fs was not specified, so we try to estimate it from the data...\n"
     ]
    },
    {
     "name": "stdout",
     "output_type": "stream",
     "text": [
      "/home/kaylavokt/Desktop/Whrath/Day1/preFamSleep_channels/ch.27.raw\n"
     ]
    },
    {
     "name": "stderr",
     "output_type": "stream",
     "text": [
      "WARNING:root:fs was estimated to be 29999.999999004103 Hz\n",
      "WARNING:root:creating support from abscissa_vals and sampling rate, fs!\n",
      "WARNING:root:'fs' has been deprecated; use 'step' instead\n",
      "WARNING:root:some steps in the data are smaller than the requested step size.\n"
     ]
    },
    {
     "name": "stdout",
     "output_type": "stream",
     "text": [
      "<AnalogSignalArray at 0x7f963b573048: 1 signals> for a total of 22:45:176 minutes\n"
     ]
    }
   ],
   "source": [
    "# pre fam sleep\n",
    "\n",
    "prefix = '/home/kaylavokt/Desktop/Whrath/Day1/'\n",
    "rec = rec_list[0]\n",
    "channels = [27]\n",
    "asa = loadUpData(prefix, rec, channels, True)\n",
    "print(asa)"
   ]
  },
  {
   "cell_type": "code",
   "execution_count": 43,
   "id": "1947f4c0-d535-4182-bb0f-c5cee7daf7b5",
   "metadata": {},
   "outputs": [],
   "source": [
    "asa_epochs = extract_ripples(asa)"
   ]
  },
  {
   "cell_type": "code",
   "execution_count": 7,
   "id": "95c7ddf1-189e-455b-90ad-928fb91533c3",
   "metadata": {},
   "outputs": [],
   "source": [
    "# asa_epochs.data"
   ]
  },
  {
   "cell_type": "code",
   "execution_count": 12,
   "id": "ee7ef1fc-94ae-42dd-ba1c-e7d45e04cf82",
   "metadata": {},
   "outputs": [],
   "source": [
    "npl.plot(asa)"
   ]
  },
  {
   "cell_type": "code",
   "execution_count": 28,
   "id": "a4867aab-c74c-4729-9343-19998aacc96b",
   "metadata": {},
   "outputs": [
    {
     "name": "stdout",
     "output_type": "stream",
     "text": [
      "/home/kaylavokt/Desktop/Whrath/Day1/fam_channels/ch.27.raw\n"
     ]
    },
    {
     "name": "stderr",
     "output_type": "stream",
     "text": [
      "WARNING:root:fs was not specified, so we try to estimate it from the data...\n",
      "WARNING:root:fs was estimated to be 29999.999999004103 Hz\n",
      "WARNING:root:creating support from abscissa_vals and sampling rate, fs!\n",
      "WARNING:root:'fs' has been deprecated; use 'step' instead\n",
      "WARNING:root:some steps in the data are smaller than the requested step size.\n"
     ]
    },
    {
     "name": "stdout",
     "output_type": "stream",
     "text": [
      "<AnalogSignalArray at 0x7f966c907cc0: 1 signals> for a total of 10:35:616 minutes\n"
     ]
    },
    {
     "name": "stderr",
     "output_type": "stream",
     "text": [
      "WARNING:root:ignoring signal outside of support\n",
      "WARNING:root:ignoring signal outside of support\n",
      "WARNING:root:ignoring signal outside of support\n",
      "WARNING:root:ignoring signal outside of support\n",
      "WARNING:root:ignoring signal outside of support\n",
      "WARNING:root:ignoring signal outside of support\n",
      "WARNING:root:ignoring signal outside of support\n",
      "WARNING:root:ignoring signal outside of support\n",
      "WARNING:root:ignoring signal outside of support\n",
      "WARNING:root:ignoring signal outside of support\n",
      "WARNING:root:ignoring signal outside of support\n",
      "WARNING:root:ignoring signal outside of support\n",
      "WARNING:root:ignoring signal outside of support\n",
      "WARNING:root:ignoring signal outside of support\n",
      "WARNING:root:ignoring signal outside of support\n",
      "WARNING:root:ignoring signal outside of support\n",
      "WARNING:root:ignoring signal outside of support\n",
      "WARNING:root:ignoring signal outside of support\n",
      "WARNING:root:ignoring signal outside of support\n",
      "WARNING:root:ignoring signal outside of support\n",
      "WARNING:root:ignoring signal outside of support\n",
      "WARNING:root:ignoring signal outside of support\n"
     ]
    }
   ],
   "source": [
    "# familiarization\n",
    "\n",
    "prefix = '/home/kaylavokt/Desktop/Whrath/Day1/'\n",
    "rec = rec_list[1]\n",
    "channels = [27]\n",
    "asa = loadUpData(prefix, rec, channels, True)\n",
    "print(asa)\n",
    "\n",
    "path = prefix + rec + '_channels/ripple_epochs.npy'\n",
    "ripple_epochs = np.load(path, allow_pickle=True)\n",
    "\n",
    "# plot all the ripples\n",
    "\n",
    "npl.plot(asa, color='orange')\n",
    "for i in range(len(ripple_epochs[15])):\n",
    "    npl.plot(asa[ripple_epochs[15][i]])"
   ]
  },
  {
   "cell_type": "markdown",
   "id": "c3eda0b1-009b-44ea-b3da-0be209de7484",
   "metadata": {},
   "source": [
    "envelope z score\n",
    "- using arbitrary threshold (e.g. 15 stdev above mean)\n",
    "- prune candidates\n",
    "\n",
    "- ripple triggered spectrograms\n",
    "- ghostipy :)"
   ]
  },
  {
   "cell_type": "code",
   "execution_count": 26,
   "id": "ea0a5e7f-5277-4ed2-9536-d039678a0f57",
   "metadata": {},
   "outputs": [
    {
     "data": {
      "text/plain": [
       "22"
      ]
     },
     "execution_count": 26,
     "metadata": {},
     "output_type": "execute_result"
    }
   ],
   "source": [
    "len(ripple_epochs[15])"
   ]
  },
  {
   "cell_type": "code",
   "execution_count": null,
   "id": "924f830b-1287-4d7f-975f-0e921b8e3bd1",
   "metadata": {},
   "outputs": [],
   "source": []
  }
 ],
 "metadata": {
  "kernelspec": {
   "display_name": "Python [conda env:analysis] *",
   "language": "python",
   "name": "conda-env-analysis-py"
  },
  "language_info": {
   "codemirror_mode": {
    "name": "ipython",
    "version": 3
   },
   "file_extension": ".py",
   "mimetype": "text/x-python",
   "name": "python",
   "nbconvert_exporter": "python",
   "pygments_lexer": "ipython3",
   "version": "3.6.13"
  }
 },
 "nbformat": 4,
 "nbformat_minor": 5
}
