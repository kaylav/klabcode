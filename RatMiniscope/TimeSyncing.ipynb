{
 "cells": [
  {
   "cell_type": "markdown",
   "id": "8a8a1cf4-0e0d-4875-a23c-d44c4a9dafa1",
   "metadata": {},
   "source": [
    "# Time Syncing Data"
   ]
  },
  {
   "cell_type": "code",
   "execution_count": null,
   "id": "9da76a1b-3fb5-482f-b3d1-3162c67399a4",
   "metadata": {},
   "outputs": [],
   "source": [
    "import scipy.io\n",
    "import matplotlib.pyplot as plt\n",
    "import numpy as np\n",
    "from scipy import stats\n",
    "\n",
    "# mat = scipy.io.loadmat('../../../CaImAn/demos/notebooks/Results/02-03cnmfe.mat')\n",
    "\n",
    "# mat = scipy.io.loadmat('../../../CaImAn/demos/notebooks/Results/01-27cnmfe.mat')"
   ]
  },
  {
   "cell_type": "markdown",
   "id": "8cee9842-920e-4aa2-970a-b8586c442273",
   "metadata": {
    "tags": []
   },
   "source": [
    "# Behavior @ 30 hz\n",
    "Time = 1675462020.79345\n",
    "\n",
    "Behavioral Start: 932\n",
    "\n",
    "Behavioral End = 27190\n",
    "\n",
    "Behavioral Frame Duration = 27190 - 932 = 26258\n",
    "\n",
    "Behavioral Time Duration = 26258 / 30 frames = 875.266666667\n",
    "\n",
    "Behavior Frames = 30 frames / sec = 0.03 ms\n",
    "\n",
    "1 second / 30 frames\n",
    "\n",
    "= 0.0333 sec/frame\n",
    "\n",
    "\n",
    "932/30 = 31.0667 seconds\n",
    "\n",
    "\n",
    "Behavior New Zero = 31.0667 seconds\n",
    "\n",
    "\n",
    "Behavior New Zero Frame = 932\n",
    "\n",
    "\n",
    "\n"
   ]
  },
  {
   "cell_type": "code",
   "execution_count": 60,
   "id": "a0ea5fc6-d8ef-41d7-b92e-e71c1e68accc",
   "metadata": {
    "tags": []
   },
   "outputs": [
    {
     "name": "stdout",
     "output_type": "stream",
     "text": [
      "{'start_frame': 932, 'end_frame': 27190, 'frame_duration': 26258, 'start_unix': 1675462020.79345, 'time_duration': 875.2666666666667}\n"
     ]
    }
   ],
   "source": [
    "# Behavior Dictionary\n",
    "\n",
    "behav_start_frame = 932\n",
    "behav_end_frame = 27190\n",
    "behav_start_unix = 1675462020.79345\n",
    "\n",
    "b = {\n",
    "    \"start_frame\" : -1,\n",
    "    \"end_frame\" : -1,\n",
    "    \"frame_duration\" : -1,\n",
    "    \"start_unix\" : -1,\n",
    "    # \"start_time\" : -1,\n",
    "    \"time_duration\" : -1\n",
    "} \n",
    "\n",
    "def init_behavior(b, start_frame, end_frame, start_unix):\n",
    "    b['start_unix'] = unix_start\n",
    "    b['start_frame'] = start_frame\n",
    "    # b['start_time'] = behavior_frame_to_time(start_frame)\n",
    "    b['end_frame'] = end_frame\n",
    "    b['frame_duration'] = end_frame - start_frame\n",
    "    b['time_duration'] = behavior_frame_to_time(end_frame - start_frame)\n",
    "    return b\n",
    "\n",
    "def behavior_frame_to_time(frame):\n",
    "    # Convert frame number * (1 sec / 30 frames) = time (s)\n",
    "    return frame / 30\n",
    "\n",
    "def behavior_time_to_frame(time):\n",
    "    # Convert time duration to number of frames\n",
    "    return time * 30\n",
    "\n",
    "behavior = init_behavior(b, behav_start_frame, behav_end_frame, behav_start_unix)\n",
    "    \n",
    "print(behavior)"
   ]
  },
  {
   "cell_type": "markdown",
   "id": "c39a54bf-3fef-49f0-8a1d-c4566f983a46",
   "metadata": {},
   "source": [
    "# Miniscope @ 10 hz\n",
    "\n",
    "Time = 1675462016784\n",
    "\n",
    "Miniscope Frames = 10 frames / sec = 0.01 ms\n",
    "\n",
    "1 sec / 10 frames\n",
    "\n",
    "= 0.1 sec/frame\n",
    "\n",
    "\n",
    "Miniscope New Zero = 31.0667 (s) - t_delta = 27.05721650278015 s\n",
    "\n",
    "\n",
    "Mini New Zero Frame = 270.5721650278015 = 271\n",
    "\n",
    "Miniscope End Time = 1675462926068\n",
    "\n",
    "Miniscope End Frames =  9028"
   ]
  },
  {
   "cell_type": "code",
   "execution_count": 83,
   "id": "f3810c11-5413-4a5d-a5a5-e77beb799eb7",
   "metadata": {
    "tags": []
   },
   "outputs": [
    {
     "name": "stdout",
     "output_type": "stream",
     "text": [
      "{'start_frame': 0, 'end_frame': 9028, 'frame_duration': 9028, 'start_unix': 1675462016.784, 'time_duration': 902.8}\n"
     ]
    }
   ],
   "source": [
    "# Miniscope Dictionary\n",
    "\n",
    "mini_start_frame = 0\n",
    "mini_end_frame = 9028\n",
    "mini_start_unix = 1675462016784/1000\n",
    "# mini_end_unix = 1675462926068/1000\n",
    "\n",
    "m = {\n",
    "    \"start_frame\" : -1,\n",
    "    \"end_frame\" : -1,\n",
    "    \"frame_duration\" : -1,\n",
    "    \"start_unix\" : -1,\n",
    "    # \"stop_unix\" : -1,\n",
    "    \"time_duration\" : -1\n",
    "} \n",
    "\n",
    "def init_miniscope(m, start_frame, end_frame, start_unix, end_unix):\n",
    "    m['start_frame'] = start_frame\n",
    "    m['end_frame'] = end_frame\n",
    "    m['frame_duration'] = end_frame - start_frame\n",
    "    m['start_unix'] = start_unix\n",
    "    # m['stop_unix'] = end_unix\n",
    "    m['time_duration'] = mini_frame_to_time(end_frame - start_frame)\n",
    "    return m\n",
    "\n",
    "def mini_frame_to_time(frame):\n",
    "    # Convert frame number * (1 sec / 30 frames) = time (s)\n",
    "    return frame / 10\n",
    "\n",
    "def mini_time_to_frame(time):\n",
    "    # Convert time duration to number of frames\n",
    "    return time*10\n",
    "\n",
    "miniscope = init_miniscope(m, mini_start_frame, mini_end_frame, mini_start_unix, mini_end_unix)\n",
    "    \n",
    "print(miniscope)"
   ]
  },
  {
   "cell_type": "code",
   "execution_count": 84,
   "id": "6a0db5ae-2dbb-4a1d-ae22-2d19f26736c6",
   "metadata": {
    "tags": []
   },
   "outputs": [
    {
     "name": "stdout",
     "output_type": "stream",
     "text": [
      "~~~ Before ~~~\n",
      "Miniscope =  {'start_frame': 0, 'end_frame': 9028, 'frame_duration': 9028, 'start_unix': 1675462016.784, 'time_duration': 902.8}\n",
      "Behavior =  {'start_frame': 932, 'end_frame': 27190, 'frame_duration': 26258, 'start_unix': 1675462020.79345, 'time_duration': 875.2666666666667}\n",
      "\n",
      "~~~ After ~~~\n",
      "Time Delta =  -4.009450197219849\n",
      "Behavior Starts First\n",
      "New Miniscope Offset =  27.057216469446818 (s) and  271 frames\n",
      "Miniscope =  {'start_frame': 271, 'end_frame': 9028, 'frame_duration': 8757, 'start_unix': 1675462016.784, 'time_duration': 875.7}\n",
      "Behavior =  {'start_frame': 932, 'end_frame': 27190, 'frame_duration': 26258, 'start_unix': 1675462020.79345, 'time_duration': 875.2666666666667}\n"
     ]
    }
   ],
   "source": [
    "# Update Start Times to Align\n",
    "# TODO: print out actual time stamps\n",
    "\n",
    "def update_miniscope(m, start_frame):\n",
    "    # Updates start_frame, frame_duration, and time_duration\n",
    "    m['start_frame'] =  start_frame\n",
    "    m['frame_duration'] = m['end_frame'] - start_frame\n",
    "    m['time_duration'] = mini_frame_to_time(m['frame_duration'])\n",
    "    return m\n",
    "        \n",
    "def update_behavior(b, start_frame):\n",
    "    print(\"todo: update behavior if miniscope time starts later\")\n",
    "    return b\n",
    "\n",
    "def update_start_time(behavior, miniscope):\n",
    "    print(\"~~~ Before ~~~\")\n",
    "    print(\"Miniscope = \", miniscope)\n",
    "    print(\"Behavior = \", behavior)\n",
    "    print(\"\\n~~~ After ~~~\")\n",
    "\n",
    "    time_delta = miniscope['start_unix'] - behavior['start_unix']\n",
    "    print(\"Time Delta = \", time_delta)\n",
    "    \n",
    "    if time_delta < 0:\n",
    "        print(\"Behavior Starts First\")\n",
    "        # This means Behavior Time Starts First (add to new zero for miniscope)\n",
    "        offset_duration = behavior_frame_to_time(behavior['start_frame']) + time_delta\n",
    "        mini_new_start_frame = round(mini_time_to_frame(offset_duration))\n",
    "        print(\"New Miniscope Offset = \", str(offset_duration), \"(s) and \", str(mini_new_start_frame), \"frames\")\n",
    "\n",
    "        miniscope = update_miniscope(miniscope, mini_new_start_frame)\n",
    "\n",
    "    print(\"Miniscope = \", miniscope)\n",
    "    print(\"Behavior = \", behavior)\n",
    "    \n",
    "update_start_time(behavior, miniscope)"
   ]
  },
  {
   "cell_type": "code",
   "execution_count": 86,
   "id": "29c1d89f-86f7-4b55-827e-744068859945",
   "metadata": {
    "tags": []
   },
   "outputs": [
    {
     "name": "stdout",
     "output_type": "stream",
     "text": [
      "0.43333333333339397\n"
     ]
    }
   ],
   "source": [
    "# Update End Times Using Number of Frames\n",
    "# TODO: print out actual time stamps\n",
    "\n",
    "duration_delta = miniscope['time_duration'] - behavior['time_duration']\n",
    "\n",
    "if duration_delta > 0:\n",
    "    print(\"Miniscope Ends First\")\n",
    "    \n",
    "    \n",
    "\n",
    "# Finalize number of frames to use for behavior and cells"
   ]
  },
  {
   "cell_type": "code",
   "execution_count": 64,
   "id": "7c9da66a-5364-4a22-9646-442ddd1a344b",
   "metadata": {
    "tags": []
   },
   "outputs": [
    {
     "data": {
      "text/plain": [
       "1675462020.79345"
      ]
     },
     "execution_count": 64,
     "metadata": {},
     "output_type": "execute_result"
    }
   ],
   "source": [
    "behavior['start_unix']"
   ]
  },
  {
   "cell_type": "code",
   "execution_count": 18,
   "id": "c5a06477-6954-4252-9101-1149da3c9755",
   "metadata": {
    "tags": []
   },
   "outputs": [
    {
     "name": "stdout",
     "output_type": "stream",
     "text": [
      "Miniscope:  2023-02-03 16:06:56.784000\n",
      "Behavior:  2023-02-03 16:07:00.793450\n",
      "Time Delta =  4.009450197219849 s\n",
      "Time Delta (ms) =  4009.4501972198486 ms\n",
      "\n",
      "\n",
      "Behavior New Zero:  2023-02-03 16:07:31.860150\n",
      "Miniscope New Zero:  2023-02-03 16:07:23.841216\n",
      "\n",
      "\n",
      "Miniscope End:  2023-02-03 16:22:06.068000\n",
      "Mini Time Delta Sec =  882.2267837524414 s\n",
      "Mini Time Delta Min =  14.703779729207357 m\n",
      "\n",
      "\n",
      "Behav End:  2023-02-03 16:22:07.126817\n",
      "Behav Time Delta Sec =  875.266666667 s\n",
      "Behav Time Delta Min =  14.587777777783334 m\n",
      "\n",
      "\n",
      "End Time Delta Sec =  1.05881667137146 s\n",
      "Behavior Data Ends First\n",
      "\n",
      "\n",
      "Offset Miniscope Frames by 271, or 27 seconds\n"
     ]
    }
   ],
   "source": [
    "import datetime\n",
    "t_mini = 1675462016784/1000\n",
    "t_behav = 1675462020.79345\n",
    "dt_mini = datetime.datetime.fromtimestamp(t_mini)\n",
    "dt_behav = datetime.datetime.fromtimestamp(t_behav)\n",
    "\n",
    "print(\"Miniscope: \", dt_mini)\n",
    "print(\"Behavior: \", dt_behav)\n",
    "\n",
    "t_delta = t_behav - t_mini\n",
    "\n",
    "print(\"Time Delta = \", t_delta, \"s\")\n",
    "print(\"Time Delta (ms) = \", t_delta*1000, \"ms\")\n",
    "\n",
    "print(\"\\n\")\n",
    "\n",
    "t_new_behav = 1675462020.79345 + 31.0667\n",
    "dt_new_behav = datetime.datetime.fromtimestamp(t_new_behav)\n",
    "print(\"Behavior New Zero: \", dt_new_behav)\n",
    "\n",
    "t_new_mini = t_mini + 27.05721650278015\n",
    "dt_new_mini = datetime.datetime.fromtimestamp(t_new_mini)\n",
    "print(\"Miniscope New Zero: \", dt_new_mini)\n",
    "\n",
    "print(\"\\n\")\n",
    "\n",
    "t_mini_end = 1675462926068/1000\n",
    "dt_mini_end = datetime.datetime.fromtimestamp(t_mini_end)\n",
    "print(\"Miniscope End: \", dt_mini_end)\n",
    "mini_delta = t_mini_end - t_new_mini\n",
    "print(\"Mini Time Delta Sec = \", mini_delta, \"s\")\n",
    "print(\"Mini Time Delta Min = \", mini_delta/60, \"m\")\n",
    "\n",
    "print(\"\\n\")\n",
    "\n",
    "t_behav_end = t_new_behav + 875.266666667\n",
    "dt_behav_end = datetime.datetime.fromtimestamp(t_behav_end)\n",
    "print(\"Behav End: \", dt_behav_end)\n",
    "behav_delta = 875.266666667\n",
    "print(\"Behav Time Delta Sec = \", behav_delta, \"s\")\n",
    "print(\"Behav Time Delta Min = \", behav_delta/60, \"m\")\n",
    "\n",
    "print(\"\\n\")\n",
    "\n",
    "end_delta = t_behav_end - t_mini_end\n",
    "\n",
    "print(\"End Time Delta Sec = \", end_delta, \"s\")\n",
    "\n",
    "\n",
    "if (behav_delta < mini_delta):\n",
    "    print(\"Behavior Data Ends First\")\n",
    "else:\n",
    "    print(\"Miniscope Data Ends First\")\n",
    "    \n",
    "behav_frames = 26258\n",
    "\n",
    "print(\"\\n\")\n",
    "\n",
    "print(\"Offset Miniscope Frames by 271, or 27 seconds\")\n",
    "mini_offset = 271\n",
    "\n"
   ]
  },
  {
   "cell_type": "code",
   "execution_count": null,
   "id": "a8eda4be-bd41-4556-a8c9-ba473efb7f12",
   "metadata": {},
   "outputs": [],
   "source": []
  }
 ],
 "metadata": {
  "kernelspec": {
   "display_name": "Python 3 (ipykernel)",
   "language": "python",
   "name": "python3"
  },
  "language_info": {
   "codemirror_mode": {
    "name": "ipython",
    "version": 3
   },
   "file_extension": ".py",
   "mimetype": "text/x-python",
   "name": "python",
   "nbconvert_exporter": "python",
   "pygments_lexer": "ipython3",
   "version": "3.10.9"
  }
 },
 "nbformat": 4,
 "nbformat_minor": 5
}
